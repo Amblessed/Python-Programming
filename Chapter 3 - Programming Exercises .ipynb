{
 "cells": [
  {
   "cell_type": "markdown",
   "metadata": {},
   "source": [
    "<h2>Geometry: area of a pentagon</h2>Write a program that prompts the user to enter the length from the center of a pentagon to a vertex and computes the area of the pentagon. The formula for computing the area of a pentagon is\n",
    "$$Area = \\frac{3* \\sqrt{3} * s^2}{2}$$ where s is the length of a side. The side can be computed using the formula $s = 2 * r * sin(pi/5)$, where r is the length from the center of a pentagon to a vertex.    \n",
    "<p style=\"color:blue\">Here is a sample run:<br>\n",
    "Enter the length from the center to a vertex:5.5<br>\n",
    "The area of the pentagon is 108.61</p>"
   ]
  },
  {
   "cell_type": "code",
   "execution_count": 4,
   "metadata": {},
   "outputs": [
    {
     "name": "stdout",
     "output_type": "stream",
     "text": [
      "Enter the length from the center to a vertex: 5.5\n",
      "The area of the pentagon is 108.61\n"
     ]
    }
   ],
   "source": [
    "#Import the math module \n",
    "import math\n",
    "\n",
    "#Prompt the user to enter the length from the center of the pentagon to its vertex\n",
    "lengthCenterVertex = float(input(\"Enter the length from the center to a vertex: \"))\n",
    "\n",
    "#Compute the side \n",
    "sideValue = 2 * lengthCenterVertex *  math.sin(3.14159 / 5)\n",
    "\n",
    "#Compute the area\n",
    "areaPentagon = (3 * math.sqrt(3) * pow(sideValue, 2)) / 2\n",
    "\n",
    "#Display the results\n",
    "print(\"The area of the pentagon is\", format(areaPentagon, \".2f\"))"
   ]
  },
  {
   "cell_type": "markdown",
   "metadata": {},
   "source": [
    "<h2>Geometry: great circle distance</h2>The great circle distance is the distance between two points on the surface of a sphere. Let (x1,y1) and (x2,y2) be the geographical latitude and longitude of two points. The great circle distance between the two points can be computed using the following formula: <br> \n",
    "<span style=\"padding-left:15em\">d= radius x arccos(sin(x<sub>1</sub>) X sin(x<sub>2</sub>) + cos(x<sub>1</sub>) X cos(x<sub>2</sub>) X cos(y<sub>1</sub> - y<sub>2</sub>))</span><br>\n",
    "Write a program that prompts the user to enter the latitude and longitude of two points on the earth in degrees and displays its great circle distance. The average earth is 6,371.01km. Note that you need to convert the degrees into radians using the <span style=\"color:blue\">math.radians</span> function since the Python trigonometric functions use radians. The latitude and longitude degrees in the formula are for north and west. Use negative to indicate south and east degrees. \n",
    "<p style=\"color:blue\">Here is a sample run:<br>\n",
    "Enter point 1 (latitude and longitude) in degrees: 39.55, -116.25<br>\n",
    "Enter point 2 (latitude and longitude) in degrees: 41.5, 87.37<br>\n",
    "The distance between the two points is 10691.79183231593</p>"
   ]
  },
  {
   "cell_type": "code",
   "execution_count": 2,
   "metadata": {},
   "outputs": [
    {
     "name": "stdout",
     "output_type": "stream",
     "text": [
      "Enter point 1 (latitude and longitude) in degrees: 39.55, -116.25\n",
      "Enter point 2 (latitude and longitude) in degrees: 41.5, 87.37\n",
      "The distance between the two points is 10691.79183\n"
     ]
    }
   ],
   "source": [
    "import math\n",
    "\n",
    "#Prompt the user enter a value \n",
    "latOne, lonOne = input(\"Enter point 1 (latitude and longitude) in degrees: \").split(\",\")\n",
    "#Convert to floating point numbers\n",
    "latOne = float(latOne)\n",
    "lonOne = float(lonOne)\n",
    "\n",
    "latTwo, lonTwo = input(\"Enter point 2 (latitude and longitude) in degrees: \").split(\",\")\n",
    "#Convert to floating point number\n",
    "latTwo = float(latTwo)\n",
    "lonTwo = float(lonTwo)\n",
    "\n",
    "#Convert to radians \n",
    "latOne = math.radians(latOne)\n",
    "lonOne = math.radians(lonOne)\n",
    "\n",
    "latTwo = math.radians(latTwo)\n",
    "lonTwo = math.radians(lonTwo)\n",
    "\n",
    "\n",
    "#Compute the great circle distance\n",
    "dist = math.acos(math.sin(latOne) * math.sin(latTwo) + math.cos(latOne) * math.cos(latTwo) * math.cos(lonOne - lonTwo))\n",
    "greatCircleDistance = 6371.01 * dist\n",
    "\n",
    "print(\"The distance between the two points is\",format(greatCircleDistance,\".5f\"))"
   ]
  },
  {
   "cell_type": "markdown",
   "metadata": {},
   "source": [
    "<h2>Geometry: area of a pentagon</h2>The area of a pentagon can be computed using the following formula (s is the length of a side):$$Area = \\frac{5 * s^2}{4 * tan(pi/5)}$$Write a program that prompts the user to enter the side of a pentagon and displays the area.\n",
    "<p style=\"color:blue\">Here is a sample run:<br>\n",
    "Enter the side: 5.5<br>\n",
    "The area of the pentagon is 53.04441</p>"
   ]
  },
  {
   "cell_type": "code",
   "execution_count": 7,
   "metadata": {},
   "outputs": [
    {
     "name": "stdout",
     "output_type": "stream",
     "text": [
      "Enter the side: 5.5\n",
      "The area of the pentagon is 52.0444\n"
     ]
    }
   ],
   "source": [
    "#Prompt the user to enter the length of the side.\n",
    "sideLength = float(input(\"Enter the side: \"))\n",
    "\n",
    "#Compute the area\n",
    "areaValue =  (5 * sideLength * sideLength) / (4 * math.tan(math.pi / 5))\n",
    "\n",
    "print(\"The area of the pentagon is\", format(areaValue, \".4f\"))"
   ]
  },
  {
   "cell_type": "code",
   "execution_count": 1,
   "metadata": {},
   "outputs": [
    {
     "data": {
      "text/plain": [
       "1529421991.7891266"
      ]
     },
     "execution_count": 1,
     "metadata": {},
     "output_type": "execute_result"
    }
   ],
   "source": [
    "import time\n",
    "time.time()"
   ]
  },
  {
   "cell_type": "markdown",
   "metadata": {},
   "source": [
    "<h2>Find the character of an ASCII code</h2> Write a program that receives an ASCII code(an integer between 0 and 127) and displays its character. For example, if the user enters 97, the program displays the character a.<br>\n",
    "<span style=\"color:blue\">Here is a sample run:<br>\n",
    "Enter an ASCII code: 69<br>\n",
    "The character is E</span>"
   ]
  },
  {
   "cell_type": "code",
   "execution_count": 8,
   "metadata": {},
   "outputs": [
    {
     "name": "stdout",
     "output_type": "stream",
     "text": [
      "Enter an ASCII code: 69\n",
      "The character is E\n"
     ]
    }
   ],
   "source": [
    "#Prompt the user to enter an ASCII code\n",
    "asciiCode = int(input(\"Enter an ASCII code: \"))\n",
    "\n",
    "#Convert to its character using chr and display the result\n",
    "print(\"The character is\",chr(asciiCode))"
   ]
  },
  {
   "cell_type": "code",
   "execution_count": null,
   "metadata": {},
   "outputs": [],
   "source": []
  }
 ],
 "metadata": {
  "kernelspec": {
   "display_name": "Python 3",
   "language": "python",
   "name": "python3"
  },
  "language_info": {
   "codemirror_mode": {
    "name": "ipython",
    "version": 3
   },
   "file_extension": ".py",
   "mimetype": "text/x-python",
   "name": "python",
   "nbconvert_exporter": "python",
   "pygments_lexer": "ipython3",
   "version": "3.6.4"
  }
 },
 "nbformat": 4,
 "nbformat_minor": 2
}
