{
 "cells": [
  {
   "cell_type": "markdown",
   "metadata": {},
   "source": [
    "<h2>Algebra:solve quadratic equations</h2><span>The two roots of a quadratic equation, for example, $ax^2 + bx + c=0$, can be obtained using the following formula:<br>\n",
    "$$r1 = \\frac{-b + \\sqrt{b^2 - 4ac}}{2a}$$ $$r2 = \\frac{-b - \\sqrt{b^2 - 4ac}}{2a}$$ \n",
    "${b^2 - 4ac}$ is called the discriminant of the quadratic equation. If it is positive, the equation has two real roots. If it is zero, the equation has one root. If it is negative, the equation has no real roots. Write a program that prompts the user to enter values for a, b, c and displays the result based on discriminant. If the discriminant is positive, display two rrots. If the discriminant is 0, display one root. Otherwise, display <b>The equation has no real roots.</b>Here are some sample runs<br>\n",
    "Enter a, b, c: 1.0, 3 , 1 <br>\n",
    "The roots are -0.381966 and -2.61803 <br>\n",
    "Enter a, b, c: 1, 2.0 , 1 <br>\n",
    "The roots is  -1<br>\n",
    "Enter a, b, c: 1, 2 , 3 <br>\n",
    "The equation has no real roots <br></span>"
   ]
  },
  {
   "cell_type": "code",
   "execution_count": 4,
   "metadata": {},
   "outputs": [
    {
     "name": "stdout",
     "output_type": "stream",
     "text": [
      "Enter a, b, c: 1,2.0,1\n",
      "The root is -1.000\n"
     ]
    }
   ],
   "source": [
    "import math\n",
    "\n",
    "#Prompt the user to the value \n",
    "a, b, c = input(\"Enter a, b, c: \").split(\",\")\n",
    "\n",
    "#Convert to floats\n",
    "a = float(a)\n",
    "b = float(b)\n",
    "c = float(c)\n",
    "\n",
    "#Check the value of b^2 - 4ac that is the discriminant\n",
    "discriminant = pow(b,2) - 4 * a * c\n",
    "\n",
    "if discriminant > 0:\n",
    "    rootOne = (-b + math.sqrt(pow(b,2) - 4 * a * c)) / 2 * a\n",
    "    rootTwo = (-b - math.sqrt(pow(b,2) - 4 * a * c)) / 2 * a\n",
    "    print(\"The roots are\",format(rootOne, \".5f\"),\"and\",format(rootTwo,\".5f\"))\n",
    "elif discriminant == 0:\n",
    "    root = - b / (2 * a)\n",
    "    print(\"The root is\",format(root, \".3f\"))\n",
    "else:\n",
    "    print(\"The equation has no real roots\")"
   ]
  },
  {
   "cell_type": "markdown",
   "metadata": {},
   "source": [
    "<h2>Algebra:solve 2 X 2 linear equations</h2> You can use Cramer's rule to solve the following 2 X 2 system of linear equations: \n",
    "$$ax + by = e$$ $$cx + dy = f$$ where $$x = \\frac{ed - bf}{ad - bc}$$ and $$y = \\frac{af - ec}{ad - bc}$$ Write a program that prompts the user to enter a, b, c, d, e, and f and displays the result. If $ad - bc = 0$, report that <strong>The equation has no solution.</strong>Here are some sample runs:<br>\n",
    "Enter a,b,c,d,e,f: 9.0,4.0,3.0,-5.0,-6.0,-21.0 <br>\n",
    "x is -2.0 and y is 3.0"
   ]
  },
  {
   "cell_type": "code",
   "execution_count": null,
   "metadata": {},
   "outputs": [],
   "source": []
  }
 ],
 "metadata": {
  "kernelspec": {
   "display_name": "Python 3",
   "language": "python",
   "name": "python3"
  },
  "language_info": {
   "codemirror_mode": {
    "name": "ipython",
    "version": 3
   },
   "file_extension": ".py",
   "mimetype": "text/x-python",
   "name": "python",
   "nbconvert_exporter": "python",
   "pygments_lexer": "ipython3",
   "version": "3.6.4"
  }
 },
 "nbformat": 4,
 "nbformat_minor": 2
}
