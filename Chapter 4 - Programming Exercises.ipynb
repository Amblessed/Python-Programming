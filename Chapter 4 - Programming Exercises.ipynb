{
 "cells": [
  {
   "cell_type": "code",
   "execution_count": 1,
   "metadata": {},
   "outputs": [],
   "source": [
    "\"\"\"\n",
    "Run this cell first as the codes below use the modules imported\n",
    "\"\"\"\n",
    "\n",
    "#Import modules to be used \n",
    "import math\n",
    "import random"
   ]
  },
  {
   "cell_type": "markdown",
   "metadata": {},
   "source": [
    "<h2>Game: Learn Addition</h2> <span>Write a program that generates two integers under 100 and prompts the user to enter the sum of these two integers. The program then reports true if the answer is correct, false otherwiswe.</span>"
   ]
  },
  {
   "cell_type": "code",
   "execution_count": 2,
   "metadata": {},
   "outputs": [
    {
     "name": "stdout",
     "output_type": "stream",
     "text": [
      "What is the 19 + 60? 79\n",
      "19 + 60 = 79 is True\n"
     ]
    }
   ],
   "source": [
    "#Generate two random integers under 100\n",
    "numberOne = random.randint(0,100)\n",
    "numberTwo = random.randint(0,100)\n",
    "\n",
    "#Prompt the user to enter the answer\n",
    "answer = input(\"What is the \" + str(numberOne) + \" + \" + str(numberTwo) + \"? \")\n",
    "answer = int(answer)\n",
    "\n",
    "#Display result \n",
    "print(numberOne, \"+\", numberTwo, \"=\", answer, \"is\", numberOne + numberTwo == answer)"
   ]
  },
  {
   "cell_type": "markdown",
   "metadata": {},
   "source": [
    "<h2>Health Application: BMI</h2> <span>Body Mass Index (BMI) is a measure of health based on weight. It can be calculated by taking your weight in kilograms and dividing it by the square of your height in meters. </span>\n",
    "<table>\n",
    "  <tr>\n",
    "    <th>BMI</th>\n",
    "    <th>Interpretation</th> \n",
    "  </tr>\n",
    "  <tr>\n",
    "    <td>Below 18.5</td>\n",
    "    <td>Underweight</td> \n",
    "  </tr>\n",
    "  <tr>\n",
    "    <td>18.5 - 24.9</td>\n",
    "    <td>Normal</td> \n",
    "  </tr>\n",
    "  <tr>\n",
    "    <td>25.0 - 29.9</td>\n",
    "    <td>Overweight</td> \n",
    "  </tr>\n",
    "  <tr>\n",
    "    <td>Above 30.0</td>\n",
    "    <td>Obese</td> \n",
    "  </tr>  \n",
    "</table>\n",
    "<span>Write a program that prompts the user to enter a weight in pounds and height in inches and then displays the BMI. Note that one pound is 0.45359237 kilograms and one inch is 0.0254 meters</span>"
   ]
  },
  {
   "cell_type": "code",
   "execution_count": 3,
   "metadata": {},
   "outputs": [
    {
     "name": "stdout",
     "output_type": "stream",
     "text": [
      "Enter the weight in pounds: 140\n",
      "Enter Feet: 5\n",
      "Enter inches: 10\n",
      "BMI is 20.088\n",
      "You are Normal\n"
     ]
    }
   ],
   "source": [
    "#Prompt the user to enter weight in pounds\n",
    "weightInPounds = input(\"Enter the weight in pounds: \")\n",
    "weightInPounds = int(weightInPounds)\n",
    "\n",
    "#Prompt the user to enter height in inches\n",
    "heightInFeet = input(\"Enter Feet: \")\n",
    "heightInFeet = int(heightInFeet)\n",
    "heightInInches = input(\"Enter inches: \")\n",
    "heightInInches = int(heightInInches)\n",
    "\n",
    "KILOGRAMS_PER_POUND = 0.45359237      #Constant\n",
    "METERS_PER_INCH = 0.0254             #Constant\n",
    "INCH_PER_FEET = 12\n",
    "\n",
    "#Compute BMI\n",
    "height = (heightInFeet * INCH_PER_FEET) + heightInInches\n",
    "weightInKilograms = weightInPounds * KILOGRAMS_PER_POUND\n",
    "heightInMeters = height * METERS_PER_INCH\n",
    "\n",
    "bodyMassIndex = weightInKilograms / (heightInMeters * heightInMeters)\n",
    "\n",
    "#Display result \n",
    "print(\"BMI is\", format(bodyMassIndex, \".3f\"))\n",
    "if bodyMassIndex < 18.5:\n",
    "    print(\"You are Underweight\")\n",
    "elif bodyMassIndex < 25:\n",
    "    print(\"You are Normal\")\n",
    "elif bodyMassIndex < 30:\n",
    "    print(\"You are Overweight\")\n",
    "else:\n",
    "    print(\"You are Obese\")"
   ]
  },
  {
   "cell_type": "markdown",
   "metadata": {},
   "source": [
    "<h2>Sort three integers</h2> <span>Write a program that prompts the user to enter three integers and displays them in increasing order</span>"
   ]
  },
  {
   "cell_type": "code",
   "execution_count": 4,
   "metadata": {},
   "outputs": [
    {
     "name": "stdout",
     "output_type": "stream",
     "text": [
      "Enter three numbers separated by commas: 67,34,89\n",
      "34 67 89\n"
     ]
    }
   ],
   "source": [
    "#Prompt the user to enter weight in pounds\n",
    "numOne, numTwo, numThree = input(\"Enter three numbers separated by commas: \").split(\",\")\n",
    "\n",
    "numOne = int(numOne)\n",
    "numTwo = int(numTwo)\n",
    "numThree = int(numThree)\n",
    "\n",
    "if numOne > numTwo and numOne > numThree:\n",
    "    if numTwo > numThree:\n",
    "        print(numThree, numTwo, numOne)\n",
    "    else:\n",
    "        print(numTwo, numThree, numOne)\n",
    "elif numTwo > numOne and numTwo > numThree:\n",
    "    if numOne > numThree:\n",
    "        print(numThree, numOne, numTwo)\n",
    "    else:\n",
    "        print(numOne, numThree, numTwo)\n",
    "elif numThree > numOne and numThree > numTwo:\n",
    "    if numOne > numTwo:\n",
    "        print(numTwo, numOne, numThree)\n",
    "    else:\n",
    "        print(numOne, numTwo, numThree)"
   ]
  },
  {
   "cell_type": "markdown",
   "metadata": {},
   "source": [
    "<h2>Check a number</h2> <span>Write a program that prompts the user to enter an integer and checks whether the number is divisible by both 5 and 6, divisible by 5 or 6, or just one of them (but not both). Here is a sample run:<br> \n",
    "Enter an integer: 10<br>\n",
    "Is 10 divisible by 5 and 6? False<br>\n",
    "Is 10 divisible by 5 or 6? True <br>\n",
    "Is 10 divisible by 5 and 6, but not both? True</span>"
   ]
  },
  {
   "cell_type": "code",
   "execution_count": 5,
   "metadata": {},
   "outputs": [
    {
     "name": "stdout",
     "output_type": "stream",
     "text": [
      "Enter an Integer: 60\n",
      "Is 60 divisible by 5 and 6? True\n",
      "Is 60 divisible by 5 or 6? True\n",
      "Is 60 divisible by 5 or 6, but not both? False\n"
     ]
    }
   ],
   "source": [
    "#Prompt the user to enter weight in pounds\n",
    "numOne = int(input(\"Enter an Integer: \"))\n",
    "\n",
    "boolFive = False\n",
    "boolSix = False\n",
    "\n",
    "if numOne % 5 == 0:\n",
    "    boolFive = True \n",
    "if numOne % 6 == 0:\n",
    "    boolSix = True\n",
    "\n",
    "print(\"Is\",numOne,\"divisible by 5 and 6?\", boolFive and boolSix)\n",
    "print(\"Is\",numOne,\"divisible by 5 or 6?\", boolFive or boolSix)\n",
    "if boolFive and boolSix:\n",
    "    boolean = boolFive and boolSix\n",
    "    print(\"Is\",numOne,\"divisible by 5 or 6, but not both?\", not boolean)\n",
    "else:\n",
    "    print(\"Is\",numOne,\"divisible by 5 or 6, but not both?\", boolFive or boolSix)"
   ]
  },
  {
   "cell_type": "markdown",
   "metadata": {},
   "source": [
    "<h2>Game:heads or tails</h2> Write a program that lets the user guess a flipped coin displays the head or the tail. The program generates randomly generates an integer 0 or 1, which represents head or tail. The program prompts the user to enter a guess and reports whether the guess is correct or incorrect"
   ]
  },
  {
   "cell_type": "code",
   "execution_count": 6,
   "metadata": {},
   "outputs": [
    {
     "name": "stdout",
     "output_type": "stream",
     "text": [
      "Enter your guess(h for Head and t for Tail): t\n",
      "Won\n"
     ]
    }
   ],
   "source": [
    "inputString = input(\"Enter your guess(h for Head and t for Tail): \")\n",
    "\n",
    "numberOne = random.randint(0,1)\n",
    "\n",
    "if numberOne == 0 and inputString == 'h':\n",
    "    print(\"Won\")\n",
    "elif numberOne == 1 and inputString == 't':\n",
    "    print(\"Won\")\n",
    "else:\n",
    "    print(\"Lost\")"
   ]
  },
  {
   "cell_type": "markdown",
   "metadata": {},
   "source": [
    "<h2>Case Study: Lottery</h2><span>Write a program to play a lottery. The program randomly generates a three-digit number, prompts the user to enter a three-digit number, and determines whether the user wins according to the following rules:<br>\n",
    "1.If the user's input matches the lottery in the exact order, the award is <span>&#36;</span>10,000.<br>\n",
    "2.If all the digits in the user's input match all the digits in the lottery, the award is <span>&#36;</span>3,000<br>\n",
    "3.If one digit in the user's input matches a digit in the lottery number, the award is <span>&#36;</span>1,000.</span>"
   ]
  },
  {
   "cell_type": "code",
   "execution_count": 7,
   "metadata": {},
   "outputs": [
    {
     "name": "stdout",
     "output_type": "stream",
     "text": [
      "Enter your lottery Number(three digits): 456\n",
      "The lottery number is 175\n",
      "Match one digit: You win $1,000\n"
     ]
    }
   ],
   "source": [
    "#Generate a lottery number\n",
    "lotteryNumber = random.randint(100,999)\n",
    "##lotteryNumber = 345\n",
    "\n",
    "#Prompt the user to enter a guess\n",
    "userGuess = int(input(\"Enter your lottery Number(three digits): \"))\n",
    "\n",
    "#Get digits from the lotteryNumber\n",
    "lotteryDigitOne = lotteryNumber // 100     #Integer division\n",
    "lotteryDigitThree = lotteryNumber % 10     #Remainder units\n",
    "lotteryDigitTwo = (lotteryNumber - (lotteryDigitOne * 100 + lotteryDigitThree)) // 10\n",
    "\n",
    "#Get digits from the userGuess\n",
    "userGuessDigitOne = userGuess // 100\n",
    "userGuessDigitThree = userGuess % 10\n",
    "userGuessDigitTwo = (userGuess - (userGuessDigitOne * 100 + userGuessDigitThree)) // 10\n",
    "\n",
    "#Output the lottery number\n",
    "print(\"The lottery number is\", lotteryNumber)\n",
    "\n",
    "#Check the guess\n",
    "if userGuess == lotteryNumber:   #Check for exact match\n",
    "    print(\"Exact match: you win $10,000\")\n",
    "elif (userGuessDigitOne + userGuessDigitTwo + userGuessDigitThree == lotteryDigitOne + lotteryDigitTwo + lotteryDigitThree):\n",
    "    print(\"Match all Digits: you win $3,000\")\n",
    "elif(userGuessDigitOne == lotteryDigitOne or userGuessDigitOne == lotteryDigitTwo or userGuessDigitOne == lotteryDigitThree\n",
    "    or userGuessDigitTwo == lotteryDigitOne or userGuessDigitTwo == lotteryDigitTwo or userGuessDigitTwo == lotteryDigitThree\n",
    "    or userGuessDigitThree == lotteryDigitOne or userGuessDigitThree == lotteryDigitTwo \n",
    "    or userGuessDigitThree == lotteryDigitThree):\n",
    "    print(\"Match one digit: You win $1,000\")\n",
    "else:\n",
    "    print(\"Sorry, no match\")"
   ]
  },
  {
   "cell_type": "markdown",
   "metadata": {},
   "source": [
    "<h2>Financials: currency exchange</h2>Write a program that prompts the user to enter the currency exchange rate between U.S.dollars and chinese Renminbi(RMB). Prompt the user to enter <span style=\"color: blue; font-weight:bold\">0</span> to convert from U.S.dollars to Chinese RMB and <span style=\"color: blue; font-weight:bold\">1</span> for vice versa. Prompt the user to enter the amount in U.S.dollars or Chinese RMB to convert it to Chinese RMB or U.S.dollars, respectively. Here are some sample runs:<br><br>\n",
    "Enter the exchange rate from dollars to RMB: 6.81<br>\n",
    "Enter 0 to convert dollars to RMB and 1 vice versa: 0<br>\n",
    "Enter the dollar amount:100<br>\n",
    "<span>&#36;</span>100.0 is 681.0 yuan <br><br>\n",
    "Enter the exchange rate from dollars to RMB: 6.81<br>\n",
    "Enter 0 to convert dollars to RMB and 1 vice versa: 1<br>\n",
    "Enter the RMB amount:10000<br>\n",
    "10000.0yuan is <span>&#36;</span>1468.43\n",
    "<span>&#36;</span>100.0 is 681.0 yuan <br><br>\n",
    "Enter the exchange rate from dollars to RMB: 6.81<br>\n",
    "Enter 0 to convert dollars to RMB and 1 vice versa: 5<br>\n",
    "Incorrect input<br>"
   ]
  },
  {
   "cell_type": "code",
   "execution_count": 8,
   "metadata": {},
   "outputs": [
    {
     "name": "stdout",
     "output_type": "stream",
     "text": [
      "Enter the exchange rate from dollars to RMB: 6.81\n",
      "Enter 0 to convert dollars to RMB and 1 vice versa: 0\n",
      "Enter the dollar amount: 100\n",
      "$100.0 is 681.00 yuan\n"
     ]
    }
   ],
   "source": [
    "#Prompt the user to enter the exchange rate \n",
    "exchangeRate = float(input(\"Enter the exchange rate from dollars to RMB: \"))\n",
    "\n",
    "#Prompt the user to enter the conversion direction\n",
    "exchangeDirection = int(input(\"Enter 0 to convert dollars to RMB and 1 vice versa: \"))\n",
    "\n",
    "#Prompt the user to enter the exchange amount\n",
    "if exchangeDirection < 0 or exchangeDirection > 1:\n",
    "    print(\"Incorrect Input\")\n",
    "elif exchangeDirection == 0:\n",
    "    exchangeAmount = int(input(\"Enter the dollar amount: \"))\n",
    "    newAmount = exchangeRate * exchangeAmount\n",
    "    print(\"$\" + format(exchangeAmount, \".1f\") + \" is \" + format(newAmount, \".2f\") + \" yuan\")\n",
    "else:\n",
    "    exchangeAmount = int(input(\"Enter the RMB amount: \"))\n",
    "    newAmount = exchangeAmount / exchangeRate\n",
    "    print(format(exchangeAmount, \".1f\") + \" yuan is $\" + format(newAmount, \".2f\"))"
   ]
  },
  {
   "cell_type": "markdown",
   "metadata": {},
   "source": [
    "<h2>Geometry:point in a circle</h2> Write a program that prompts the user to enter a point (x,y) and checks whether the point is within the circle centered at (0,0) with radius 10. For example, (4, 5) is inside the circle and (9, 9) is outside the circle. (Hint: A point is in the circle if its distance to (0,0) is less than or equal to 10. The formula for computing the distance is $\\sqrt{(x_2 - x_1)^2 + (y_2 - y_1)^2}$. Test your porgram to cover all cases.). Two sample runs are shown next:<br><br>\n",
    "Enter a point with two coordinates: 4, 5 <br>\n",
    "Point (4.0, 5.0) is in circle <br><br>\n",
    "Enter a point with two coordinates: 9, 9<br>\n",
    "Point (9.0, 9.0) is not in the circle"
   ]
  },
  {
   "cell_type": "code",
   "execution_count": 9,
   "metadata": {},
   "outputs": [
    {
     "name": "stdout",
     "output_type": "stream",
     "text": [
      "Enter a point with two coordinates: 4,5\n",
      "Point (4.0, 5.0) is in the circle\n"
     ]
    }
   ],
   "source": [
    "#Prompt the user to enter a point (x, y)\n",
    "pointX, pointY = input(\"Enter a point with two coordinates: \").split(\",\")\n",
    "\n",
    "#Convert the points to float numbers\n",
    "pointX = float(pointX)\n",
    "pointY = float(pointY)\n",
    "\n",
    "#Compute the distance to the origin\n",
    "distance = math.sqrt((pointX - 0)**2 + (pointY - 0)**2)\n",
    "\n",
    "#Check if the distance is less than or equal to 10\n",
    "if distance <= 10:\n",
    "    print(\"Point (\" + format(pointX, \".1f\") + \", \" + format(pointY,\".1f\") + \") is in the circle\")\n",
    "else:\n",
    "    print(\"Point (\" + format(pointX, \".1f\") + \", \" + format(pointY,\".1f\") + \") is not in the circle\")"
   ]
  },
  {
   "cell_type": "markdown",
   "metadata": {},
   "source": [
    "<h2>Science: day of the week</h2>Zeller's congruence is an algorithm developed by Christian Zeller to calculate the day of the week. The formula is $h = (q + \\left \\lfloor \\frac{26(m + 1)}{10}\\right \\rfloor + \\left \\lfloor \\frac{year}{100}\\right \\rfloor + k + \\left \\lfloor \\frac{k}{4}\\right \\rfloor + \\left \\lfloor \\frac{j}{4}\\right \\rfloor + 5j)$ % 7. where <br>\n",
    "h is the day of the week (0: Saturday, 1:Sunday, 2:Monday, 3:Tuesday, 4:Wednesday, 5:Thursday, 6:Friday) <br>\n",
    "q is the day of the month<br>\n",
    "m is the month (3:March, 4: April,...., 12:December). January and February are counted as months 13 and 14 of the previous year <br>\n",
    "j is the century (i.e., $\\left \\lfloor \\frac{j}{4}\\right \\rfloor$)<br>\n",
    "k is the year of the century(i.e., year % 100)<br>\n",
    "Write a program that prompts the user to enter a year, month, and day of the month, and then it display the name of the day of the week. Here are some sample runs: <br>\n",
    "Enter year: (e.g., 2008): 2013<br>\n",
    "Enter month: 1 - 12: 1<br>\n",
    "Enter the day of the month: 1-31: 25<br>\n",
    "Day of the week is Friday.\n"
   ]
  },
  {
   "cell_type": "code",
   "execution_count": 10,
   "metadata": {},
   "outputs": [
    {
     "name": "stdout",
     "output_type": "stream",
     "text": [
      "Enter year(e.g., 2008): 2018\n",
      "Enter month(e.g., 1- 12): 6\n",
      "Enter the day of the month(1-31): 16\n",
      "Day of the week is Saturday\n"
     ]
    }
   ],
   "source": [
    "#Prompt the user to enter the year\n",
    "year = int(input(\"Enter year(e.g., 2008): \"))\n",
    "\n",
    "#Prompt the user to enter the month\n",
    "month = int(input(\"Enter month(e.g., 1- 12): \"))\n",
    "\n",
    "#Prompt the user to enter the day of the month\n",
    "day = int(input(\"Enter the day of the month(1-31): \"))\n",
    "\n",
    "#If month is January or month is February, change to 13 or 14 and make year to be the previous year\n",
    "if month == 1 or month == 2:\n",
    "    year = year - 1\n",
    "    if month == 1:\n",
    "        month = 13\n",
    "    else:\n",
    "        month = 14\n",
    "        \n",
    "k = year % 100     \n",
    "j = math.floor((year / 100))\n",
    "k_four = k / 4\n",
    "j_four = j / 4\n",
    "m = (26 * (month + 1)) / 10\n",
    "\n",
    "h = day + math.floor(m) + k + math.floor(k_four) + math.floor(j_four) + (5 * j)\n",
    "h = h % 7\n",
    "\n",
    "if h == 0:\n",
    "    print(\"Day of the week is Saturday\")\n",
    "elif h == 1:\n",
    "    print(\"Day of the week is Sunday\")\n",
    "elif h == 2:\n",
    "    print(\"Day of the week is Monday\")\n",
    "elif h == 3:\n",
    "    print(\"Day of the week is Tuesday\")\n",
    "elif h == 4:\n",
    "    print(\"Day of the week is Wednesday\")\n",
    "elif h == 5:\n",
    "    print(\"Day of the week is Thursday\")\n",
    "else:\n",
    "    print(\"Day of the week is Friday\")"
   ]
  },
  {
   "cell_type": "markdown",
   "metadata": {},
   "source": [
    "<h2>Geometry:point in a rectangle</h2>Write a program that prompts the user to enter a point (x, y) and checks whether the point is within the rectangle centered at (0,0) with width 10 and height 5. For example, (2, 2) is inside the rectangle and (6, 4) is outside the rectangle. (Hint: A point is in the rectangle if its horizontal distance to (0, 0) is less than or equal to 10 / 2 and its vertical distance to (0, 0) is less than or equal to  5.0 / 2. <br><br>\n",
    "Enter a point with two coordinates: 2, 2 <br>\n",
    "Point (2.0, 2.0) is in the rectangle <br><br> \n",
    "Enter a point with two coordinates: 6, 4 <br>\n",
    "Point (6.0, 4.0) is not in the rectangle \n"
   ]
  },
  {
   "cell_type": "code",
   "execution_count": 11,
   "metadata": {},
   "outputs": [
    {
     "name": "stdout",
     "output_type": "stream",
     "text": [
      "Enter a point with two coordinates: 2,2\n",
      "Point (2.0, 2.0) is in the rectangle\n"
     ]
    }
   ],
   "source": [
    "#Prompt the user to enter a point with x and y coordinate\n",
    "pointX, pointY = input(\"Enter a point with two coordinates: \").split(\",\")\n",
    "\n",
    "#Convert user inputs to floating point numbers\n",
    "pointX = float(pointX)\n",
    "pointY = float(pointY)\n",
    "\n",
    "#Compute the distance to the origin\n",
    "horizontalDistance = pointX - 0 \n",
    "verticalDistance = pointY - 0\n",
    "\n",
    "widthDivision = 10 / 2   #float division\n",
    "heightDivision = 5 / 2   #float division\n",
    "\n",
    "\n",
    "if horizontalDistance <= widthDivision and verticalDistance <= heightDivision:\n",
    "    print(\"Point (\" + format(pointX, \".1f\") + \", \" + format(pointY,\".1f\") + \") is in the rectangle\")\n",
    "else:\n",
    "    print(\"Point (\" + format(pointX, \".1f\") + \", \" + format(pointY,\".1f\") + \") is not in the rectangle\")"
   ]
  },
  {
   "cell_type": "markdown",
   "metadata": {},
   "source": [
    "<h2>Palindrome Number</h2>Write a program that prompts the user to enter a three-digit integer and determines whether it is a palindrome number. A number is a palindrome if it reads the same from right to left and from left to right. Here is a sample run:<br><br>\n",
    "Enter a a three-digit integer: 121<br>\n",
    "121 is a palindrome<br><br>\n",
    "Enter a three-digit integer:123<br>\n",
    "123 is not a palindrome"
   ]
  },
  {
   "cell_type": "code",
   "execution_count": 12,
   "metadata": {},
   "outputs": [
    {
     "name": "stdout",
     "output_type": "stream",
     "text": [
      "Enter a three-digit integer: 343\n",
      "343 is a palindrome\n"
     ]
    }
   ],
   "source": [
    "#Enter a number \n",
    "inputNumber = int(input(\"Enter a three-digit integer: \"))\n",
    "\n",
    "digitOne = inputNumber // 100\n",
    "digitThree = inputNumber % 10\n",
    "\n",
    "if digitOne == digitThree:\n",
    "    print(inputNumber,\"is a palindrome\")\n",
    "else:\n",
    "    print(inputNumber,\"is not a palindrome\")"
   ]
  },
  {
   "cell_type": "markdown",
   "metadata": {},
   "source": [
    "<h2>Geometry: two rectangles</h2>Write a program that prompts the user to enter the center x-, y-coordinates, width, and height of two rectangles and determines whether the second rectangle is inside the first or overlaps with the first. Here are some sample runs:<br>\n",
    "Enter r1's center x-, y-coordinates, width, and height: 2.5, 4, 2.5, 43<br>\n",
    "Enter r2's center x-, y-coordinates, width, and height: 1.5, 5, 0.5, 3<br>\n",
    "r2 is inside r1<br><br>\n",
    "\n",
    "Enter r1's center x-, y-coordinates, width, and height: 1, 2, 3, 5.5<br>\n",
    "Enter r2's center x-, y-coordinates, width, and height: 3, 4, 4.5, 5<br>\n",
    "r2 overlaps r1<br><br>\n",
    "\n",
    "Enter r1's center x-, y-coordinates, width, and height: 1, 2, 3, 3<br>\n",
    "Enter r2's center x-, y-coordinates, width, and height: 40, 45, 3, 2<br>\n",
    "r2 does not overlap r1<br><br>"
   ]
  },
  {
   "cell_type": "code",
   "execution_count": 13,
   "metadata": {},
   "outputs": [
    {
     "name": "stdout",
     "output_type": "stream",
     "text": [
      "Enter r1's center x-, y-coordinates, width, and height: 1, 2, 3, 5.5\n",
      "Enter r2's center x-, y-coordinates, width, and height: 3, 4, 4.5, 5\n",
      "r2 overlaps r1\n"
     ]
    }
   ],
   "source": [
    "#Prompt the user to enter the coordinates \n",
    "xOne, yOne, widthOne, heightOne = input(\"Enter r1's center x-, y-coordinates, width, and height: \").split(\",\")\n",
    "\n",
    "xOne = float(xOne)\n",
    "yOne = float(yOne)\n",
    "widthOne = float(widthOne)\n",
    "heightOne = float(heightOne)\n",
    "\n",
    "#Prompt the user to enter the coordinates of the second position\n",
    "xTwo, yTwo, widthTwo, heightTwo = input(\"Enter r2's center x-, y-coordinates, width, and height: \").split(\",\")\n",
    "\n",
    "xTwo = float(xTwo)\n",
    "yTwo = float(yTwo)\n",
    "widthTwo = float(widthTwo)\n",
    "heightTwo = float(heightTwo)\n",
    "\n",
    "\n",
    "#Compute the distance to the origin\n",
    "horizontalDistance = xTwo - xOne \n",
    "verticalDistance = yTwo - yOne\n",
    "\n",
    "widthDivision = widthOne / 2\n",
    "heightDivision = heightOne / 2\n",
    "\n",
    "if horizontalDistance <= widthDivision and verticalDistance <= heightDivision:\n",
    "    print(\"r2 is inside r1\")\n",
    "elif horizontalDistance <= widthDivision or verticalDistance <= heightDivision:\n",
    "    print(\"r2 overlaps r1\")\n",
    "else:\n",
    "    print(\"r2 does not overlap r1\")"
   ]
  },
  {
   "cell_type": "markdown",
   "metadata": {},
   "source": [
    "<h2>Geometry: two rectangles</h2>Write a program that prompts the user to enter the center coordinates and radii of two circles and determines whether the second circle is inside the first. Hint: circle2 is inside circle1 if the distance between the two centers <= |r1 - r2| and circle2 overlaps circle1 if the distance between the two centers <= r1 + r2. Here are some sample runs:<br><br>\n",
    "Enter circle1's center x-, y-coordinates, and radius:<br>\n",
    "0.5, 5.1, 13<br>\n",
    "Enter circle2's center x-, y-coordinates, and radius:<br>\n",
    "1, 1.7, 4.5<br>\n",
    "circle2 is inside circle1<br><br>\n",
    "Enter circle1's center x-, y-coordinates, and radius:<br>\n",
    "4.4, 5.7, 5.5<br>\n",
    "Enter circle2's center x-, y-coordinates, and radius:<br>\n",
    "6.7, 3.5, 3<br>\n",
    "circle2 overlaps circle1<br><br>\n",
    "Enter circle1's center x-, y-coordinates, and radius:<br>\n",
    "4.4, 5.5, 1<br>\n",
    "Enter circle2's center x-, y-coordinates, and radius:<br>\n",
    "5.5, 7.2, 1<br>\n",
    "circle2 does not overlap circle1"
   ]
  },
  {
   "cell_type": "code",
   "execution_count": 14,
   "metadata": {},
   "outputs": [
    {
     "name": "stdout",
     "output_type": "stream",
     "text": [
      "Enter circle1's center x-, y-coordinates, and radius: 4.4, 5.7, 5.5\n",
      "Enter circle2's center x-, y-coordinates, and radius: 1, 1.7, 4.5\n",
      "circle2 overlaps circle1\n"
     ]
    }
   ],
   "source": [
    "#Prompt the user to enter the coordinates \n",
    "circleOneX, circleOneY, circleOneRadius = input(\"Enter circle1's center x-, y-coordinates, and radius: \").split(\",\")\n",
    "\n",
    "circleOneX = float(circleOneX)\n",
    "circleOneY = float(circleOneY)\n",
    "circleOneRadius = float(circleOneRadius)\n",
    "\n",
    "#Prompt the user to enter the coordinates of the second position\n",
    "circleTwoX, circleTwoY, circleTwoRadius = input(\"Enter circle2's center x-, y-coordinates, and radius: \").split(\",\")\n",
    "\n",
    "circleTwoX = float(circleTwoX)\n",
    "circleTwoY = float(circleTwoY)\n",
    "circleTwoRadius = float(circleTwoRadius)\n",
    "\n",
    "#Calculate the distance bewteen the circles\n",
    "distanceBetweenCircles = math.sqrt((circleOneX-circleTwoX)**2 + (circleOneY-circleTwoY)**2)\n",
    "\n",
    "#Check results \n",
    "if distanceBetweenCircles <= math.fabs(circleOneRadius - circleTwoRadius):\n",
    "    print(\"circle2 is inside circle1\")\n",
    "elif distanceBetweenCircles <= (circleOneRadius + circleTwoRadius):\n",
    "    print(\"circle2 overlaps circle1\")\n",
    "else:\n",
    "    print(\"circle2 does not overlap circle1\")"
   ]
  },
  {
   "cell_type": "markdown",
   "metadata": {},
   "source": [
    "<h2>Geometry: point position</h2>Given a directed line from point p0(x0,y0) to p1(x1, y1), you can use the following condition to decide whether a point p2(x2, y2) is on the left side, on the right side of the line, or on the same line. Write a program that prompts the user to  enter the x- and y-coordinates for the three points p0, p1, and p2 and displays whether p2 is on the left side of the line from p0 to p1, on the right side, or on same line. <br>\n",
    "$(x1 - x0)*(y2 - y0) - (x2 - x0)*(y1 - y0) > 0:$p2 is on the left side of the line.<br>\n",
    "$(x1 - x0)*(y2 - y0) - (x2 - x0)*(y1 - y0) = 0:$p2 is on the same line. <br>\n",
    "$(x1 - x0)*(y2 - y0) - (x2 - x0)*(y1 - y0) < 0:$p2 is on the right side of the line. <br>\n",
    "Here are some sample runs: <br>\n",
    "Enter coordinates for the three points p0, p1, and p2: <br>\n",
    "3.4, 2, 6.5, 9.5, -5, 4 <br>\n",
    "p2 is on the left side of the line from p0  to p1 <br>\n",
    "\n",
    "Enter coordinates for the three points p0, p1, and p2: <br>\n",
    "1, 1, 5, 5, 2, 2<br>\n",
    "p2 is on the same line from p0 to p1 <br>\n",
    "\n",
    "Enter coordinates for the three points p0, p1, and p2: <br>\n",
    "3.4, 2, 6.5, 9.5, 5, 2.5 <br>\n",
    "p2 is on the right side of the line from p0 to p1"
   ]
  },
  {
   "cell_type": "code",
   "execution_count": 15,
   "metadata": {},
   "outputs": [
    {
     "name": "stdout",
     "output_type": "stream",
     "text": [
      "Enter coordinates for the three points p0, p1, and p2: 3.4, 2, 6.5, 9.5, -5, 4 \n",
      "p2 is on the left side of the line from p0 to p1\n"
     ]
    }
   ],
   "source": [
    "#Prompt the user to enter the coordinates \n",
    "p0X,p0Y,p1X,p1Y,p2X,p2Y = input(\"Enter coordinates for the three points p0, p1, and p2: \").split(\",\")\n",
    "\n",
    "p0X = float(p0X)\n",
    "p0Y = float(p0Y)\n",
    "p1X = float(p1X)\n",
    "p1Y = float(p1Y)\n",
    "p2X = float(p2X)\n",
    "p2Y = float(p2Y)\n",
    "\n",
    "#Compute the equation above equates to 0, greater than 0 or less than 0\n",
    "equationResult = (p1X - p0X) * (p2Y - p0Y) - (p2X - p0X) * (p1Y - p0Y)\n",
    "\n",
    "if equationResult > 0:\n",
    "    print(\"p2 is on the left side of the line from p0 to p1\")\n",
    "elif equationResult == 0:\n",
    "    print(\"p2 is on the same line from p0 to p1\")\n",
    "else:\n",
    "    print(\"p2 is on the right side of the line from p0 to p1\")"
   ]
  },
  {
   "cell_type": "code",
   "execution_count": null,
   "metadata": {},
   "outputs": [],
   "source": []
  }
 ],
 "metadata": {
  "kernelspec": {
   "display_name": "Python 3",
   "language": "python",
   "name": "python3"
  },
  "language_info": {
   "codemirror_mode": {
    "name": "ipython",
    "version": 3
   },
   "file_extension": ".py",
   "mimetype": "text/x-python",
   "name": "python",
   "nbconvert_exporter": "python",
   "pygments_lexer": "ipython3",
   "version": "3.6.5"
  }
 },
 "nbformat": 4,
 "nbformat_minor": 2
}
