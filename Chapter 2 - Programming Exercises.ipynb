{
 "cells": [
  {
   "cell_type": "markdown",
   "metadata": {},
   "source": [
    "<h2 style=\"color:blue\">Convert Celsius to Fahrenheit</h2><span style=\"color:blue\">Write a program that reads a Celsius degree from the console and converts it to Fahrenheit and displays the result. The formula for the conversion is as follows:</span><br>\n",
    "\n",
    "$$fahrenheit = \\frac{9}{5} * celsius + 32$$\n",
    "<span style=\"background:rgb(211,211,211)\">Here is a sample run of the program:<br>\n",
    "Enter a degree in Celsius: 43<br>\n",
    "43 Celsius is 109.4 Fahrenheit</span>"
   ]
  },
  {
   "cell_type": "code",
   "execution_count": 2,
   "metadata": {},
   "outputs": [
    {
     "name": "stdout",
     "output_type": "stream",
     "text": [
      "Enter a degree in Celsius: 43\n",
      "43.0 Celsius is 109.4 Fahrenheit\n"
     ]
    }
   ],
   "source": [
    "#Obtain the input from the user \n",
    "celsiusValue = float(input(\"Enter a degree in Celsius: \"))\n",
    "\n",
    "#Convert to fahrenheit\n",
    "fahrenheitValue = (9 / 5) * celsiusValue + 32\n",
    "\n",
    "#Display the results \n",
    "print(celsiusValue, \"Celsius is\",fahrenheitValue,\"Fahrenheit\")"
   ]
  },
  {
   "cell_type": "markdown",
   "metadata": {},
   "source": [
    "<h2 style=\"color:blue; text-transform:uppercase\">Compute the volume of a cylinder</h2><span style=\"color:blue\">Write a program that reads in the radius and length of a cylinder and computes the area and volume using the following formulas:\n",
    "$$area = radius * radius * pi$$\n",
    "$$volume = area * length    $$\n",
    "Here is a sample run:<br>\n",
    "Enter the radius and length of a cylinder: 5.5, 12 <br>\n",
    "The area is 95.0331 <br>\n",
    "The volume is 1140.4 </span>"
   ]
  },
  {
   "cell_type": "code",
   "execution_count": 4,
   "metadata": {},
   "outputs": [
    {
     "name": "stdout",
     "output_type": "stream",
     "text": [
      "Enter the radius and length of a cylinder: 5.5,12\n",
      "The area is 95.0331\n",
      "The volume is 298.6\n"
     ]
    }
   ],
   "source": [
    "#Obtain the input from the user \n",
    "radiusCylinder, lengthCylinder = input(\"Enter the radius and length of a cylinder: \").split(\",\")\n",
    "\n",
    "#Convert to float numbers\n",
    "radiusCylinder = float(radiusCylinder)\n",
    "lengthCylinder = float(lengthCylinder)\n",
    "\n",
    "PI = 3.14159\n",
    "\n",
    "#Compute the area\n",
    "areaValue = radiusCylinder * radiusCylinder * PI\n",
    "\n",
    "#Compute the volume\n",
    "volumeValue = areaValue * PI\n",
    "\n",
    "#Display the results \n",
    "print(\"The area is\",format(areaValue, \".4f\"))\n",
    "\n",
    "#Display the results \n",
    "print(\"The volume is\",format(volumeValue, \".1f\"))"
   ]
  },
  {
   "cell_type": "markdown",
   "metadata": {},
   "source": [
    "<h2 style=\"color:blue\">Convert feet into meters</h2><span style=\"color:blue\">Write a program that reads a number in feet, converts it to meters, and displays the result. One foot is 0.305 meters.<br>\n",
    "Here is a sample run:<br>\n",
    "Enter a value for feet:16.5<br>\n",
    "16.5 feet is 5.0325 meters</span>"
   ]
  },
  {
   "cell_type": "code",
   "execution_count": 7,
   "metadata": {},
   "outputs": [
    {
     "name": "stdout",
     "output_type": "stream",
     "text": [
      "Enter a value for feet: 16.5\n",
      "16.5 feet is 5.0325 meters\n"
     ]
    }
   ],
   "source": [
    "#Obtain the input from the user \n",
    "footValue = float(input(\"Enter a value for feet: \"))\n",
    "\n",
    "#Convert to meter\n",
    "meterValue = footValue * 0.305\n",
    "\n",
    "#Display the results \n",
    "print(footValue,\"feet is\",format(meterValue, \".4f\"),\"meters\")"
   ]
  },
  {
   "cell_type": "markdown",
   "metadata": {},
   "source": [
    "<h2 style=\"color:blue; text-transform:uppercase\">Convert pounds into kilograms</h2><span style=\"color:blue\">Write a program that converts pounds into kilograms. The program prompts the user to enter a value in pounds, converts it to kilograms, and displays the result. One pound is 0.454 Kilograms.</span><br>\n",
    "<p style=\"color:blue\">Here is a sample run:<br>\n",
    "Enter a value for pounds:55.5<br>\n",
    "55.5 feet is 25.197 Kilograms</p>"
   ]
  },
  {
   "cell_type": "code",
   "execution_count": 8,
   "metadata": {},
   "outputs": [
    {
     "name": "stdout",
     "output_type": "stream",
     "text": [
      "Enter a value in pounds: 55.5\n",
      "55.5 pounds is 25.197 kilograms\n"
     ]
    }
   ],
   "source": [
    "#Obtain the input from the user \n",
    "poundValue = float(input(\"Enter a value in pounds: \"))\n",
    "\n",
    "#Convert to meter\n",
    "kilogramValue = poundValue * 0.454\n",
    "\n",
    "#Display the results \n",
    "print(poundValue,\"pounds is\",format(kilogramValue, \".3f\"),\"kilograms\")"
   ]
  },
  {
   "cell_type": "markdown",
   "metadata": {},
   "source": [
    "<h2>Financial Application: Calculate tips</h2> Write a program that reads the subtotal and the gratuity rate and compares the gratuity and total. For example, if the user enters 10 for the subtotal and 15% for the gratuity rate, the program displays 1.5 as the gratuity and 11.5 as the total.<br>\n",
    "<p style=\"color:blue\">Here is a sample run:<br>\n",
    "Enter the subtotal and a gratuity rate: 55.5<br>\n",
    "The gratuity is 2.35 and the total is 18.04</p>"
   ]
  },
  {
   "cell_type": "code",
   "execution_count": 10,
   "metadata": {},
   "outputs": [
    {
     "name": "stdout",
     "output_type": "stream",
     "text": [
      "Enter the subtotal and a gratuity rate: 15.69,15\n",
      "The gratuity is 2.35 and the total is 18.04\n"
     ]
    }
   ],
   "source": [
    "#Obtain the input from the user \n",
    "subtotalValue, gratuityValue = input(\"Enter the subtotal and a gratuity rate: \").split(\",\")\n",
    "\n",
    "#Convert to float Numbers\n",
    "subtotalValue = float(subtotalValue)\n",
    "gratuityValue = float(gratuityValue)\n",
    "\n",
    "#Compute the gratuity and total\n",
    "gratuity = (gratuityValue / 100) * subtotalValue\n",
    "total = gratuity + subtotalValue\n",
    "\n",
    "#Display the results \n",
    "print(\"The gratuity is\",format(gratuity,\".2f\"), \"and the total is\", format(total, \".2f\"))"
   ]
  },
  {
   "cell_type": "markdown",
   "metadata": {},
   "source": [
    "<h2>Sum the digits in an integer</h2> Write a program that reads an integer between 0 and 1000 and adds all the digits in the integer. For example, if an integer is 932, the sum of all its digits is 14.<br>\n",
    "<p style=\"color:blue\">Here is a sample run:<br>\n",
    "Enter a number between 0 and 1000:999<br>\n",
    "The sum of the digits is 27</p>"
   ]
  },
  {
   "cell_type": "code",
   "execution_count": 14,
   "metadata": {},
   "outputs": [
    {
     "name": "stdout",
     "output_type": "stream",
     "text": [
      "Enter a number between 0 and 1000: 345\n",
      "The sum of the digits is 12\n"
     ]
    }
   ],
   "source": [
    "#Obtain the input from the user \n",
    "inputValue = int(input(\"Enter a number between 0 and 1000: \"))\n",
    "\n",
    "#Extract the individual digits\n",
    "lastDigit = inputValue % 10\n",
    "remainingDigit = inputValue // 10\n",
    "secondDigit = remainingDigit % 10\n",
    "firstDigit = remainingDigit // 10\n",
    "\n",
    "#Compute the sum of the number\n",
    "totalSum = firstDigit + secondDigit + lastDigit\n",
    "\n",
    "#Display the result\n",
    "print(\"The sum of the digits is\",totalSum)"
   ]
  },
  {
   "cell_type": "markdown",
   "metadata": {},
   "source": [
    "<h2>Find the number of years and days</h2> Write a program that prompts the user to enter the minutes (e.g., 1 billion), and displays the number of years and days for the minutes. For simplicity, assume a year has 365 days.<br>\n",
    "<p style=\"color:blue\">Here is a sample run:<br>\n",
    "Enter the number of minutes:1000000000<br>\n",
    "1000000000 minutes is approximately 1902 years and 214 days</p>"
   ]
  },
  {
   "cell_type": "code",
   "execution_count": 20,
   "metadata": {},
   "outputs": [
    {
     "name": "stdout",
     "output_type": "stream",
     "text": [
      "Enter the number of minutes: 1000000000\n",
      "1000000000 minutes is approximately 1902 years and 214 days\n"
     ]
    }
   ],
   "source": [
    "#Obtain the input from the user \n",
    "minutesValue = int(input(\"Enter the number of minutes: \"))\n",
    "\n",
    "#Compute number of minutes in a year.. A year has 365 days\n",
    "numberMinutesInYear = 365 * 24 * 60\n",
    "numberMinutesInDay = 24 * 60\n",
    "\n",
    "#Compute the number of year in minutes entered\n",
    "numberOfYears = minutesValue // numberMinutesInYear\n",
    "remainingMinutes = minutesValue % numberMinutesInYear\n",
    "numberOfDays = remainingMinutes // numberMinutesInDay\n",
    "\n",
    "print(minutesValue,\"minutes is approximately\",numberOfYears,\"years and\",numberOfDays,\"days\")"
   ]
  },
  {
   "cell_type": "markdown",
   "metadata": {},
   "source": [
    "<h2>Science:calculate energy</h2>Write a program that calculates the energy needed to heat water from an initial temperature to a final temperature. Your program should prompt the user to enter the amount of water in kilograms and the initial and final temperatures of the water. The formula to compute the energy is<br>\n",
    "$$Q = M * (finalTemperature - initialTemperature) * 4184$$\n",
    "where M is the weight of water in kilograms, temperatures are in degrees Celsius, and energy Q is measured in joules.<br>\n",
    "<p style=\"color:blue\">Here is a sample run:<br>\n",
    "Enter the amount of water in kilograms: 55.5<br>\n",
    "Enter the initial temperature: 3.5<br>\n",
    "Enter the initial temperature: 10.5<br>\n",
    "The energy needed is 1625484.0</p>"
   ]
  },
  {
   "cell_type": "code",
   "execution_count": 21,
   "metadata": {},
   "outputs": [
    {
     "name": "stdout",
     "output_type": "stream",
     "text": [
      "Enter the amount of water in kilograms: 55.5\n",
      "Enter the initial temperature: 3.5\n",
      "Enter the final temperature: 10.5\n",
      "The energy needed is 1625484.0\n"
     ]
    }
   ],
   "source": [
    "#Obtain the input from the user \n",
    "amountOfWater = float(input(\"Enter the amount of water in kilograms: \"))\n",
    " \n",
    "initialTemperature = float(input(\"Enter the initial temperature: \"))\n",
    "\n",
    "finalTemperature = float(input(\"Enter the final temperature: \"))\n",
    "\n",
    "#Compute the energy needed to heat the water using the formula provided\n",
    "energyNeededValue = amountOfWater * (finalTemperature - initialTemperature) * 4184\n",
    "\n",
    "#Display the results\n",
    "print(\"The energy needed is\",energyNeededValue)"
   ]
  },
  {
   "cell_type": "markdown",
   "metadata": {},
   "source": [
    "<h2>Science:wind-chill temperature</h2> How cold is it outside? The temperature alone is not enough to provide the answer. Other factors including wind speed, relative humidity, and sunshine play important roles in determining coldness outside. In 2001, the National Weather Service (NWS) implemented the new wind-chill temperature to measure the coldness using temperature and wind speed. The formula is given as follows: <br>\n",
    "<span style=\"padding-left:15em\">t<sub>wc</sub> = 35.74 + 0.6215t<sub>a</sub> - 35.75v<sup>0.16</sup> + 0.4275t<sub>a</sub>v<sup>0.16</sup></span> <br>\n",
    "where t<sub>a</sub> is the outside temperature measured in degrees Fahrenheit and v is the speed measured in miles per hour. t<sub>wc</sub> is the wind-chill temperature. The formula cannot be used for wind speeds below 2mph or for temperatures below -58<sup>o</sup>F or above 41<sup>o</sup>F. Write a program that prompts the user to enter a temperature between -58<sup>o</sup>F and 41<sup>o</sup>F and a wind speed greater than or equal to 2 and displays the wind-chill temperature.\n",
    "<p style=\"color:blue\">Here is a sample run:<br>\n",
    "Enter the temperature in Fahrenheit between -58 and 41: 5.3<br>\n",
    "Enter the wind speed in miles per hour: 6<br>\n",
    "The wind chill index is -5.56707</p>"
   ]
  },
  {
   "cell_type": "code",
   "execution_count": 24,
   "metadata": {},
   "outputs": [
    {
     "name": "stdout",
     "output_type": "stream",
     "text": [
      "Enter the temperature in Fahrenheit between -58 and 41: 5.3\n",
      "Enter the wind speed in miles per hour: 6\n",
      "The wind chill index is -5.56707\n"
     ]
    }
   ],
   "source": [
    "#Obtain the input from the user \n",
    "temperature = float(input(\"Enter the temperature in Fahrenheit between -58 and 41: \"))\n",
    " \n",
    "windSpeed = float(input(\"Enter the wind speed in miles per hour: \"))\n",
    "\n",
    "#Compute the Wind Chill Index\n",
    "windChillIndex = 35.74 + 0.6215*temperature  - 35.75*(windSpeed**0.16) + 0.4275*temperature*(windSpeed**0.16)\n",
    "\n",
    "#Display the results\n",
    "print(\"The wind chill index is\",format(windChillIndex,\".5f\"))"
   ]
  },
  {
   "cell_type": "markdown",
   "metadata": {},
   "source": [
    "<h2>Physics: find runaway length</h2>Given an airplane's acceleration a and take-off speed v, you can compute the minimum runway length needed for an airplane to take off using the following formula: <br>\n",
    "\n",
    "$$length = \\frac{v^2 * 3}{2a} $$\n",
    "Write a program that prompts the user to enter v in meters/second(m/s) and the acceleration a in meters/second squared(m/s<sup>2</sup>), and displays the minimum runway length.  \n",
    "<p style=\"color:blue\">Here is a sample run:<br>\n",
    "Enter speed and acceleration:60, 3.5<br>\n",
    "The minimum runway length for this airplane is 514.286 meters</p>"
   ]
  },
  {
   "cell_type": "code",
   "execution_count": 27,
   "metadata": {},
   "outputs": [
    {
     "name": "stdout",
     "output_type": "stream",
     "text": [
      "Enter speed and acceleration: 60,3.5\n",
      "The minimum runway length for this airplane is 514.286 meters\n"
     ]
    }
   ],
   "source": [
    "#Obtain the input from the user \n",
    "speedValue, accelerationValue = input(\"Enter speed and acceleration: \").split(\",\")\n",
    "\n",
    "#Convert to float numbers\n",
    "speedValue = float(speedValue)\n",
    "accelerationValue = float(accelerationValue)\n",
    "\n",
    "#Compute the minimum runway length\n",
    "lengthValue = (speedValue ** 2) / (2 * accelerationValue)\n",
    "\n",
    "#Display the results\n",
    "print(\"The minimum runway length for this airplane is\",format(lengthValue, \".3f\"), \"meters\")"
   ]
  },
  {
   "cell_type": "markdown",
   "metadata": {},
   "source": [
    "<h2>Financial application: investment amount</h2> Suppose you want to deposit a certain amount of money into a savings account with a fixed annual interest rate. What amount do you need to deposit in order to have &dollar;5000 in the account after three years? The initial deposit amount can be obtained using the following formula: <br>\n",
    "\n",
    "$$initialDepositAmount = \\frac{finalAccountValue}{(1 + monthlyInterestRate)^n} $$\n",
    "where <b>n</b> is the <b>number of months</b>.Write a program that prompts the user to enter final account value, annual interest rate in percent, and the number of years, and displays the initial deposit amount. <p style=\"color:blue\">Here is a sample run:<br>\n",
    "Enter final account value:1000 <br>\n",
    "Enter annual interest rate in percent:4.25<br>\n",
    "Enter number of years: 5<br>\n",
    "Initial deposit value is 808.8639</p>"
   ]
  },
  {
   "cell_type": "code",
   "execution_count": 30,
   "metadata": {},
   "outputs": [
    {
     "name": "stdout",
     "output_type": "stream",
     "text": [
      "Enter final account value: 1000\n",
      "Enter annual interest rate in percent: 4.25\n",
      "Enter number of years: 5\n",
      "Initial deposit value is 808.8639\n"
     ]
    }
   ],
   "source": [
    "#Obtain the inputs from the user\n",
    "finalAccountValue = float(input(\"Enter final account value: \"))\n",
    "\n",
    "annualInterestRate = float(input(\"Enter annual interest rate in percent: \"))\n",
    "\n",
    "numberOfYears = int(input(\"Enter number of years: \"))\n",
    "\n",
    "#Compute deposit amount\n",
    "monthlyInterestRate = annualInterestRate / (12 * 100)\n",
    "\n",
    "initialDepositAmount = finalAccountValue / (1 + monthlyInterestRate) ** (numberOfYears * 12)\n",
    "\n",
    "print(\"Initial deposit value is\",format(initialDepositAmount, \".4f\"))"
   ]
  },
  {
   "cell_type": "markdown",
   "metadata": {},
   "source": [
    "<h2 style=\"color:blue\">Geometry: area of a hexagon</h2><span style=\"color:blue\">Write a program that prompts the user to enter the side of a hexagon and displays its area. The formula for computing the area of a hexagon is: <br> $$Area = \\frac{3 * \\sqrt{3} * s^2}{2} $$\n",
    "where s is the length of a side.</span><span style=\"color:blue\">Here is a sample run:<br>\n",
    "Enter the side:5.5 <br>\n",
    "The area of the hexagon is 78.59</span>"
   ]
  },
  {
   "cell_type": "code",
   "execution_count": 40,
   "metadata": {},
   "outputs": [
    {
     "name": "stdout",
     "output_type": "stream",
     "text": [
      "Enter the side: 5.5\n",
      "The area of the hexagon is 78.59\n"
     ]
    }
   ],
   "source": [
    "#Prompt the user for input\n",
    "sideValue = float(input(\"Enter the side: \"))\n",
    "\n",
    "#Compute the area \n",
    "areaValue = (3 * (3 ** 0.5) * (sideValue ** 2)) / 2\n",
    "\n",
    "print(\"The area of the hexagon is\",format(areaValue, \".2f\"))"
   ]
  },
  {
   "cell_type": "markdown",
   "metadata": {},
   "source": [
    "<h2>Health Application: compute BMI</h2> Body Mass index (BMI) is a measure of health based on weight. It can be calculated by taking your weight in kilograms and dividing it by the square of your height in meters. Write a program that prompts the user to enter a weight in pounds and height in inches and displays the BMI. Note that one pound is 0.45359237 kilograms and one inch is 0.0254 meters. <p style=\"color:blue\">Here is a sample run:<br>\n",
    "Enter weight in pounds: 95.5 <br>\n",
    "Enter height in inches: 50 <br>\n",
    "BMI is 26.8573</p>"
   ]
  },
  {
   "cell_type": "code",
   "execution_count": 43,
   "metadata": {},
   "outputs": [
    {
     "name": "stdout",
     "output_type": "stream",
     "text": [
      "Enter weight in pounds: 95.5\n",
      "Enter height in inches: 50\n",
      "BMI is 26.8573\n"
     ]
    }
   ],
   "source": [
    "#Prompt the user to enter the weight and height\n",
    "weightInPounds = float(input(\"Enter weight in pounds: \"))\n",
    "heightInInches = float(input(\"Enter height in inches: \"))\n",
    "\n",
    "#Convert the weight and height to respective units\n",
    "weightInKilograms = weightInPounds * 0.45359237\n",
    "heightInMeters = heightInInches * 0.0254\n",
    "\n",
    "#Compute the body mass index\n",
    "bodyMassIndex = weightInKilograms / (heightInMeters ** 2)\n",
    "\n",
    "print(\"BMI is\", format(bodyMassIndex, \".4f\"))"
   ]
  },
  {
   "cell_type": "markdown",
   "metadata": {},
   "source": [
    "<h2>Financial Application: calculate future investment value</h2>Write a program that reads in an investment amount, the annual interest rate, and the number of years, and displays the future investment value using the following formula: <br>\n",
    "\n",
    "$$futureInvestmentValue = investmentAmount * (1 + monthlyInterestRate)^n$$\n",
    "where n is the number of months. For example, if you enter the amount 1000, an annual interest rate is 4.25%, and the number of years as 1, the future investment value is 1043.33. <p style=\"color:blue\">Here is a sample run: <br>\n",
    "Enter investment amount: 1000<br>\n",
    "Enter annual interest rate: 4.25<br>\n",
    "Enter number of years: 1<br>\n",
    "Accumulated value is 1043.33"
   ]
  },
  {
   "cell_type": "code",
   "execution_count": 45,
   "metadata": {},
   "outputs": [
    {
     "name": "stdout",
     "output_type": "stream",
     "text": [
      "Enter investment amount: 1000\n",
      "Enter annual interest rate: 4.25\n",
      "Enter the number of years: 1\n",
      "Accumulated value is 1043.3377\n"
     ]
    }
   ],
   "source": [
    "#Prompt the user for inputs\n",
    "investmentAmount = float(input(\"Enter investment amount: \"))\n",
    "\n",
    "annualInterestRate = float(input(\"Enter annual interest rate: \"))\n",
    "\n",
    "numberOfYears = int(input(\"Enter the number of years: \"))\n",
    "\n",
    "#Compute the monthly interest rate and number of months \n",
    "monthlyInterestRate = annualInterestRate / (12 * 100)\n",
    "\n",
    "numberOfMonths = numberOfYears * 12\n",
    "\n",
    "#Compute the future investment value \n",
    "futureInvestmentValue = investmentAmount * ((1 + monthlyInterestRate) ** numberOfMonths)\n",
    "\n",
    "print(\"Accumulated value is\", format(futureInvestmentValue, \".4f\"))"
   ]
  },
  {
   "cell_type": "markdown",
   "metadata": {},
   "source": [
    "<h2>Financial Application: compound value</h2> Suppose you save &dollar;100 each month into a savings account with an annual interest rate of 5%. Therefore, the monthly interest rate is 0.05 / 12 0.00417. After the first month, the value in the account becomes:<br>\n",
    "100 x (1 + 0.00417) = 100.417<br>\n",
    "After the second month, the value in the account becomes<br> \n",
    "(100 + 100.417) x (1 + 0.00417) = 201.252<br>\n",
    "After the third month, the value in the account becomes<br>\n",
    "(100 + 201.252) x (1 + 0.00417) = 302.507<br>\n",
    "and so on.Write a program that prompts the user to enter a monthly saving amount and displays the account value after the sixth month.<br> <p style=\"color:blue\">Here is a simple run of the program: <br>\n",
    "Enter the monthly saving amount: 100 <br>\n",
    "After the sixth month, the account value is 608.81</p>"
   ]
  },
  {
   "cell_type": "code",
   "execution_count": 52,
   "metadata": {},
   "outputs": [
    {
     "name": "stdout",
     "output_type": "stream",
     "text": [
      "Enter the monthly saving amount: 750\n",
      "After the sixth month, the account value is 4566.136\n"
     ]
    }
   ],
   "source": [
    "#Prompt the user to enter the monthly savings amount\n",
    "savingsAmount = float(input(\"Enter the monthly saving amount: \"))\n",
    "\n",
    "INTEREST_MULTIPLIER = (1 + 0.00417)\n",
    "\n",
    "#After first month\n",
    "firstMonthValue = savingsAmount * INTEREST_MULTIPLIER\n",
    "\n",
    "#After second month\n",
    "secondMonthValue = (savingsAmount + firstMonthValue) * INTEREST_MULTIPLIER\n",
    "\n",
    "#After third month\n",
    "thirdMonthValue = (savingsAmount + secondMonthValue) * INTEREST_MULTIPLIER\n",
    "\n",
    "#After fourth month\n",
    "fourthMonthValue = (savingsAmount + thirdMonthValue) * INTEREST_MULTIPLIER\n",
    "\n",
    "#After fifth month\n",
    "fifthMonthValue = (savingsAmount + fourthMonthValue) * INTEREST_MULTIPLIER\n",
    "\n",
    "#After sixth month\n",
    "sixthMonthValue = (savingsAmount + fifthMonthValue) * INTEREST_MULTIPLIER\n",
    "\n",
    "#Display the results\n",
    "print(\"After the sixth month, the account value is\",format(sixthMonthValue,\".3f\"))"
   ]
  },
  {
   "cell_type": "code",
   "execution_count": null,
   "metadata": {},
   "outputs": [],
   "source": []
  }
 ],
 "metadata": {
  "kernelspec": {
   "display_name": "Python 3",
   "language": "python",
   "name": "python3"
  },
  "language_info": {
   "codemirror_mode": {
    "name": "ipython",
    "version": 3
   },
   "file_extension": ".py",
   "mimetype": "text/x-python",
   "name": "python",
   "nbconvert_exporter": "python",
   "pygments_lexer": "ipython3",
   "version": "3.6.4"
  }
 },
 "nbformat": 4,
 "nbformat_minor": 2
}
