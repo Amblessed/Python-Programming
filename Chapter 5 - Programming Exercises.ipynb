{
 "cells": [
  {
   "cell_type": "code",
   "execution_count": 171,
   "metadata": {},
   "outputs": [],
   "source": [
    "import math\n",
    "import random"
   ]
  },
  {
   "cell_type": "markdown",
   "metadata": {},
   "source": [
    "<h2>Count positive and negative numbers and compute the average of numbers</h2>Write a program that reads an unspecified number of integers, determines how many positive and negative values have been read, and computes the total and average of the input values(not counting zeros). Your program ends with the input 0. Display the average as a floating point number. Here is a sample run:<br><br>\n",
    "Enter an integer, the input ends if it is 0: 1<br>\n",
    "Enter an integer, the input ends if it is 0: 2<br>\n",
    "Enter an integer, the input ends if it is 0: -1<br>\n",
    "Enter an integer, the input ends if it is 0: 3<br>\n",
    "Enter an integer, the input ends if it is 0: 0<br>\n",
    "The number of positives is 3<br>\n",
    "The number of negatives is 1<br>\n",
    "The total is 5<br>\n",
    "The average is 1.25<br>"
   ]
  },
  {
   "cell_type": "code",
   "execution_count": 13,
   "metadata": {},
   "outputs": [
    {
     "name": "stdout",
     "output_type": "stream",
     "text": [
      "Enter an integer, the input ends if it is 0: 1\n",
      "Enter an integer, the input ends if it is 0: 2\n",
      "Enter an integer, the input ends if it is 0: -1\n",
      "Enter an integer, the input ends if it is 0: 3\n",
      "Enter an integer, the input ends if it is 0: 0\n",
      "The number of positives is 3\n",
      "The number of negatives is 1\n",
      "The total is 5\n",
      "The average is 1.25\n"
     ]
    }
   ],
   "source": [
    "#Prompt the user to enter a value \n",
    "userInput = int(input(\"Enter an integer, the input ends if it is 0: \"))\n",
    "total = 0\n",
    "count = 0\n",
    "numberPositives = 0\n",
    "numberNegatives = 0\n",
    "if userInput == 0:\n",
    "    print(\"You didn't enter any number\")\n",
    "else:\n",
    "    while userInput != 0:\n",
    "        total = total + userInput\n",
    "        count = count + 1\n",
    "        if userInput > 0:\n",
    "            numberPositives = numberPositives  + 1\n",
    "        else:\n",
    "            numberNegatives = numberNegatives + 1\n",
    "        userInput = int(input(\"Enter an integer, the input ends if it is 0: \"))\n",
    "    print(\"The number of positives is\",numberPositives)\n",
    "    print(\"The number of negatives is\",numberNegatives)\n",
    "    print(\"The total is\",total)\n",
    "    print(\"The average is\",total / count)"
   ]
  },
  {
   "cell_type": "markdown",
   "metadata": {},
   "source": [
    "<h2>Conversion from kilograms to pounds</h2>Write a program that displays the coversion between kilograms and pounds. 1 kilogram is 2.2 pounds. "
   ]
  },
  {
   "cell_type": "code",
   "execution_count": 22,
   "metadata": {},
   "outputs": [
    {
     "name": "stdout",
     "output_type": "stream",
     "text": [
      "Kilograms \t Pounds\n",
      "1 \t\t 2.2\n",
      "3 \t\t 6.6\n",
      "5 \t\t 11.0\n",
      "7 \t\t 15.4\n",
      "9 \t\t 19.8\n",
      "11 \t\t 24.2\n",
      "13 \t\t 28.6\n",
      "15 \t\t 33.0\n",
      "17 \t\t 37.4\n",
      "19 \t\t 41.8\n"
     ]
    }
   ],
   "source": [
    "KILOGRAM_PER_POUNDS = 2.2\n",
    "\n",
    "print(\"Kilograms\",\"\\t\",\"Pounds\")\n",
    "for num in range(20):\n",
    "    if num % 2 != 0:\n",
    "        print(num, \"\\t\\t\",format(num*KILOGRAM_PER_POUNDS,\".1f\"))"
   ]
  },
  {
   "cell_type": "markdown",
   "metadata": {},
   "source": [
    "<h2>Conversion from miles to kilometers</h2>Write a program that displays the coversion between kilograms and pounds. 1 mile is 1.609 kilometers. "
   ]
  },
  {
   "cell_type": "code",
   "execution_count": 27,
   "metadata": {},
   "outputs": [
    {
     "name": "stdout",
     "output_type": "stream",
     "text": [
      "Miles \t Kilometers\n",
      "1 \t 1.609\n",
      "2 \t 3.218\n",
      "3 \t 4.827\n",
      "4 \t 6.436\n",
      "5 \t 8.045\n",
      "6 \t 9.654\n",
      "7 \t 11.263\n",
      "8 \t 12.872\n",
      "9 \t 14.481\n",
      "10 \t 16.090\n"
     ]
    }
   ],
   "source": [
    "MILE_PER_KILOMETERS = 1.609   #Constant\n",
    "\n",
    "print(\"Miles\",\"\\t\",\"Kilometers\")\n",
    "for num in range(1,11):\n",
    "    print(num, \"\\t\",format(num*MILE_PER_KILOMETERS,\".3f\"))"
   ]
  },
  {
   "cell_type": "markdown",
   "metadata": {},
   "source": [
    "<h2>Conversion from kilograms to pounds and pounds to kilograms</h2>Write a program that displays the conversion from kilograms to pounds and pounds to kilograms. "
   ]
  },
  {
   "cell_type": "code",
   "execution_count": 161,
   "metadata": {},
   "outputs": [
    {
     "name": "stdout",
     "output_type": "stream",
     "text": [
      "Kilograms \t Pounds \t | \t Pounds \t Kilograms\n",
      "1 \t\t 2.2 \t\t | \t 20 \t\t 9.09\n",
      "3 \t\t 6.6 \t\t | \t 25 \t\t 11.36\n",
      "5 \t\t 11.0 \t\t | \t 30 \t\t 13.63\n",
      "7 \t\t 15.4 \t\t | \t 35 \t\t 15.91\n",
      "9 \t\t 19.8 \t\t | \t 40 \t\t 18.18\n",
      "11 \t\t 24.2 \t\t | \t 45 \t\t 20.45\n",
      "13 \t\t 28.6 \t\t | \t 50 \t\t 22.73\n",
      "15 \t\t 33.0 \t\t | \t 55 \t\t 25.00\n",
      "17 \t\t 37.4 \t\t | \t 60 \t\t 27.27\n",
      "19 \t\t 41.8 \t\t | \t 65 \t\t 29.54\n"
     ]
    }
   ],
   "source": [
    "KILOGRAM_PER_POUNDS = 2.2\n",
    "POUNDS_PER_KILOGRAM = 0.4545\n",
    "startPound = 20\n",
    "print(\"Kilograms\",\"\\t\",\"Pounds\", \"\\t\",\"|\", \"\\t\", \"Pounds\",\"\\t\",\"Kilograms\")\n",
    "for num in range(1,20):\n",
    "    if num % 2 != 0:\n",
    "        print(num,\"\\t\\t\",format(num*KILOGRAM_PER_POUNDS,\".1f\"), \"\\t\\t\",\"|\", \"\\t\", end = \" \")\n",
    "        print(startPound,\"\\t\\t\",format(startPound*POUNDS_PER_KILOGRAM,\".2f\"))\n",
    "        startPound = startPound + 5"
   ]
  },
  {
   "cell_type": "markdown",
   "metadata": {},
   "source": [
    "<h2>Use trigonometric functions</h2>Print the a table to display the sin value and cos value of degrees from 0 to 360 with increments of 10 degrees. Round the value to keep four digits after the decimal point."
   ]
  },
  {
   "cell_type": "code",
   "execution_count": 81,
   "metadata": {},
   "outputs": [
    {
     "name": "stdout",
     "output_type": "stream",
     "text": [
      "Degree \t\t Sin \t\t Cos\n",
      "0 \t\t 0.0000 \t 1.0000\n",
      "10 \t\t 0.1736 \t 0.9848\n",
      "20 \t\t 0.3420 \t 0.9397\n",
      "30 \t\t 0.5000 \t 0.8660\n",
      "40 \t\t 0.6428 \t 0.7660\n",
      "50 \t\t 0.7660 \t 0.6428\n",
      "60 \t\t 0.8660 \t 0.5000\n",
      "70 \t\t 0.9397 \t 0.3420\n"
     ]
    }
   ],
   "source": [
    "#Display the \n",
    "print(\"Degree\", \"\\t\\t\",\"Sin\",\"\\t\\t\",\"Cos\")\n",
    "\n",
    "for number in range(0, 75,10):\n",
    "    radiansNum = math.radians(number)\n",
    "    print(number, \"\\t\\t\", format(math.sin(radiansNum),\".4f\"),\"\\t\", format(math.cos(radiansNum),\".4f\"))"
   ]
  },
  {
   "cell_type": "markdown",
   "metadata": {},
   "source": [
    "<h2>Use the math.sqrt function</h2>Write a program that prints the square root of the numbers 1 to 11 using the math.sqrt function"
   ]
  },
  {
   "cell_type": "code",
   "execution_count": 85,
   "metadata": {},
   "outputs": [
    {
     "name": "stdout",
     "output_type": "stream",
     "text": [
      "NUmber \t\t Square Root\n",
      "0 \t\t 0.0000\n",
      "1 \t\t 1.0000\n",
      "2 \t\t 1.4142\n",
      "3 \t\t 1.7321\n",
      "4 \t\t 2.0000\n",
      "5 \t\t 2.2361\n",
      "6 \t\t 2.4495\n",
      "7 \t\t 2.6458\n",
      "8 \t\t 2.8284\n",
      "9 \t\t 3.0000\n",
      "10 \t\t 3.1623\n"
     ]
    }
   ],
   "source": [
    "#Display the header\n",
    "print(\"NUmber\", \"\\t\\t\",\"Square Root\")\n",
    "\n",
    "#Display the square of the numbers\n",
    "for number in range(0,11):\n",
    "    print(number, \"\\t\\t\", format(math.sqrt(number), \".4f\"))"
   ]
  },
  {
   "cell_type": "markdown",
   "metadata": {},
   "source": [
    "<h2>Find the smallest n such that n<sup>2</sup> &gt; 12000</h2>Use a while loop to find the smallest integer n such that n<sup>2</sup> is greater than 12000"
   ]
  },
  {
   "cell_type": "code",
   "execution_count": 86,
   "metadata": {},
   "outputs": [
    {
     "name": "stdout",
     "output_type": "stream",
     "text": [
      "110\n"
     ]
    }
   ],
   "source": [
    "n = 1\n",
    "while n*n < 12000:\n",
    "    n = n + 1\n",
    "print(n)"
   ]
  },
  {
   "cell_type": "markdown",
   "metadata": {},
   "source": [
    "<h2>Find the largest n such that n<sup>3</sup> &lt; 12000</h2>Use a while loop to find the largest integer n such that n<sup>3</sup> is less than 12000"
   ]
  },
  {
   "cell_type": "code",
   "execution_count": 95,
   "metadata": {},
   "outputs": [
    {
     "name": "stdout",
     "output_type": "stream",
     "text": [
      "22\n"
     ]
    }
   ],
   "source": [
    "p = 1\n",
    "while 12000 > pow(p,3):\n",
    "    p = p + 1\n",
    "\n",
    "if p*p*p > 12000:\n",
    "    print(p-1)\n",
    "else:\n",
    "    print(p)"
   ]
  },
  {
   "cell_type": "markdown",
   "metadata": {},
   "source": [
    "<h2>Financial application: compare loans with various interest rates</h2>Write a program that lets the user enter the loan amount and the loan period in number of years and displays the monthly and total payments for each interest rate starting from 5% to 8%, with an increment of 1/8. Here is a sample run:<br>"
   ]
  },
  {
   "cell_type": "code",
   "execution_count": 109,
   "metadata": {},
   "outputs": [
    {
     "name": "stdout",
     "output_type": "stream",
     "text": [
      "Enter Loan Amount: 10000\n",
      "Enter number of years: 5\n",
      "Interest Rate \t Monthly Payment \t Total Payment\n",
      "5.000 % \t 188.71 \t\t 11322.74\n",
      "5.125 % \t 189.29 \t\t 11357.13\n",
      "5.250 % \t 189.86 \t\t 11391.59\n",
      "5.375 % \t 190.44 \t\t 11426.11\n",
      "5.500 % \t 191.01 \t\t 11460.70\n",
      "5.625 % \t 191.59 \t\t 11495.35\n",
      "5.750 % \t 192.17 \t\t 11530.06\n",
      "5.875 % \t 192.75 \t\t 11564.84\n",
      "6.000 % \t 193.33 \t\t 11599.68\n",
      "6.125 % \t 193.91 \t\t 11634.59\n",
      "6.250 % \t 194.49 \t\t 11669.56\n",
      "6.375 % \t 195.08 \t\t 11704.59\n",
      "6.500 % \t 195.66 \t\t 11739.69\n",
      "6.625 % \t 196.25 \t\t 11774.85\n",
      "6.750 % \t 196.83 \t\t 11810.08\n",
      "6.875 % \t 197.42 \t\t 11845.37\n",
      "7.000 % \t 198.01 \t\t 11880.72\n",
      "7.125 % \t 198.60 \t\t 11916.14\n",
      "7.250 % \t 199.19 \t\t 11951.62\n",
      "7.375 % \t 199.79 \t\t 11987.16\n",
      "7.500 % \t 200.38 \t\t 12022.77\n",
      "7.625 % \t 200.97 \t\t 12058.44\n",
      "7.750 % \t 201.57 \t\t 12094.18\n",
      "7.875 % \t 202.17 \t\t 12129.97\n",
      "8.000 % \t 202.76 \t\t 12165.84\n"
     ]
    }
   ],
   "source": [
    "#Prompt the user to enter the loan amount\n",
    "loanAmount = int(input(\"Enter Loan Amount: \"))\n",
    "\n",
    "#Prompt the user to enter the number of years\n",
    "numberYears = int(input(\"Enter number of years: \"))\n",
    "\n",
    "print(\"Interest Rate\",\"\\t\", \"Monthly Payment\", \"\\t\", \"Total Payment\")\n",
    "\n",
    "for number in range(0,25):\n",
    "    annualInterest = 5 + number * 0.125\n",
    "    monthlyInterestRate = annualInterest / 1200\n",
    "    monthlyPayment = loanAmount * monthlyInterestRate / (1 - 1 / (1 + monthlyInterestRate)**(numberYears * 12))\n",
    "    totalPayment = monthlyPayment * numberYears * 12\n",
    "    print(format(annualInterest,\".3f\"),\"%\", \"\\t\", format(monthlyPayment, \".2f\"), \"\\t\\t\",format(totalPayment,\".2f\"))"
   ]
  },
  {
   "cell_type": "markdown",
   "metadata": {},
   "source": [
    "<h2>Financial Application: loan amortization schedule</h2>The monthly payment for a given loan pays the principal and interest. The monthly interest is computed by multiplying the monthly interest rate and the balance (the remaining principal). The principal paid for the month is therefore the monthly payment minus the monthly interest. Write a program that lets the user enter the loan amount, number of years, and interest rate, and then displays the amortization schedule for loan. "
   ]
  },
  {
   "cell_type": "code",
   "execution_count": 137,
   "metadata": {},
   "outputs": [
    {
     "name": "stdout",
     "output_type": "stream",
     "text": [
      "Enter the Loan Amount: 10000\n",
      "Enter the number of Years: 1\n",
      "Enter the annual Interest Rate: 7\n",
      "Monthly Payment:  865.27\n",
      "Total Payment:  10383.21\n",
      "Payment# \t Interest \t Principal \t Balance\n",
      "1 \t\t 58.33 \t\t 806.93 \t 9193.07\n",
      "2 \t\t 53.63 \t\t 811.64 \t 8381.42\n",
      "3 \t\t 48.89 \t\t 816.38 \t 7565.05\n",
      "4 \t\t 44.13 \t\t 821.14 \t 6743.91\n",
      "5 \t\t 39.34 \t\t 825.93 \t 5917.98\n",
      "6 \t\t 34.52 \t\t 830.75 \t 5087.24\n",
      "7 \t\t 29.68 \t\t 835.59 \t 4251.65\n",
      "8 \t\t 24.80 \t\t 840.47 \t 3411.18\n",
      "9 \t\t 19.90 \t\t 845.37 \t 2565.81\n",
      "10 \t\t 14.97 \t\t 850.30 \t 1715.51\n",
      "11 \t\t 10.01 \t\t 855.26 \t 860.25\n",
      "12 \t\t 5.02 \t\t 860.25 \t 0.00\n"
     ]
    }
   ],
   "source": [
    "#Prompt the user to enter the loan amount\n",
    "amountLoan = int(input(\"Enter the Loan Amount: \"))\n",
    "\n",
    "#Prompt the user to enter the number of years\n",
    "numberOfYears = int(input(\"Enter the number of Years: \"))\n",
    "\n",
    "#Prompt the user to enter the annual interest rate\n",
    "annualInterestRate = int(input(\"Enter the annual Interest Rate: \"))\n",
    "\n",
    "#Compute the monthly interest rate\n",
    "monthlyInterestRate = annualInterestRate / 1200\n",
    "\n",
    "#Compute the monthly payment rate and the total payment\n",
    "monthlyPaymentRate = amountLoan * monthlyInterestRate / (1 - 1 / (1 + monthlyInterestRate)**(numberOfYears * 12))\n",
    "totalPayment = monthlyPaymentRate * numberOfYears * 12\n",
    "\n",
    "print(\"Monthly Payment: \", format(monthlyPaymentRate, \".2f\"))\n",
    "print(\"Total Payment: \", format(totalPayment, \".2f\"))\n",
    "print(\"Payment#\", \"\\t\", \"Interest\", \"\\t\", \"Principal\",\"\\t\", \"Balance\")\n",
    "balance = amountLoan\n",
    "\n",
    "\n",
    "\n",
    "for num in range(1, numberOfYears*12 + 1):\n",
    "    interest = monthlyInterestRate * balance\n",
    "    principal = monthlyPaymentRate - interest\n",
    "    balance = balance - principal\n",
    "    print(num, \"\\t\\t\", format(interest,\".2f\"), \"\\t\\t\", format(principal,\".2f\"), \"\\t\", format(balance, \".2f\"))"
   ]
  },
  {
   "cell_type": "markdown",
   "metadata": {},
   "source": [
    "<h2>Sum of a series</h2> Write a program to sum the following series:\n",
    "$\\frac{1}{3} + \\frac{3}{5} + \\frac{5}{7} + \\frac{7}{9} + \\frac{9}{11} + \\frac{11}{13}  + ... +  \\frac{95}{97} + \\frac{97}{99}$"
   ]
  },
  {
   "cell_type": "code",
   "execution_count": 136,
   "metadata": {},
   "outputs": [
    {
     "name": "stdout",
     "output_type": "stream",
     "text": [
      "147.00\n"
     ]
    }
   ],
   "source": [
    "#Initialize the total variable\n",
    "total = 0\n",
    "\n",
    "for number in range(1,98,2):\n",
    "    total = total + ( number / number + 2)\n",
    "    \n",
    "#Display the result    \n",
    "print(format(total, \".2f\"))"
   ]
  },
  {
   "cell_type": "code",
   "execution_count": 153,
   "metadata": {
    "scrolled": false
   },
   "outputs": [
    {
     "name": "stdout",
     "output_type": "stream",
     "text": [
      "1 1\n",
      "1 2\n",
      "1 3\n",
      "1 4\n",
      "1 5\n",
      "1 6\n",
      "1 7\n",
      "2 2\n",
      "2 3\n",
      "2 4\n",
      "2 5\n",
      "2 6\n",
      "2 7\n",
      "3 3\n",
      "3 4\n",
      "3 5\n",
      "3 6\n",
      "3 7\n",
      "4 4\n",
      "4 5\n",
      "4 6\n",
      "4 7\n",
      "5 5\n",
      "5 6\n",
      "5 7\n",
      "6 6\n",
      "6 7\n",
      "7 7\n",
      "28\n"
     ]
    }
   ],
   "source": [
    "totalNumbers = 0\n",
    "count = 0\n",
    "for number in range(1,8,1):\n",
    "    num = 0\n",
    "    num = number + num\n",
    "    while num < 8:\n",
    "        print(number,num)\n",
    "        num = num + 1\n",
    "        count = count + 1\n",
    "print(count)"
   ]
  },
  {
   "cell_type": "markdown",
   "metadata": {},
   "source": [
    "<h2>Financial application: compound value</h2>Suppose you save <span>&dollar;</span>100 each month into a savings account with the annual interest rate 5%. So, the monthly interest rate is 0.05712 = 0.00417. After the first month, the value in the account becomes<br>\n",
    "$100 * (1 + 0.00417) = 100.417$<br>\n",
    "After the second month, the value in the account becomes <br>\n",
    "$(100 + 100.417) * (1 + 0.00417) = 201.252$<br>\n",
    "After the third month, the value in the account becomes <br>\n",
    "$(100 + 201.252) * (1 + 0.00417) = 302.507$<br> \n",
    "and so on. Write a program that prompts the user to enter an amount (e.g.,100), the annual interest rate rate (e.g.,5), and the number of months (e.g.,6) and displays the amount in the savings account after the given month"
   ]
  },
  {
   "cell_type": "code",
   "execution_count": 159,
   "metadata": {},
   "outputs": [
    {
     "name": "stdout",
     "output_type": "stream",
     "text": [
      "Enter the savings amount: 100\n",
      "Enter the annual interest rate: 5\n",
      "Enter the number of months: 3\n",
      "The amount in the Savings Amount after 3 months is 302.507\n"
     ]
    }
   ],
   "source": [
    "#Prompt the user to enter the amount\n",
    "savingAmount = float(input(\"Enter the savings amount: \"))\n",
    "\n",
    "#Prompt the user to enter the annual interest rate\n",
    "annualInterestRate = float(input(\"Enter the annual interest rate: \"))\n",
    "monthlyInterestRate = annualInterestRate / 1200\n",
    "totalAmount = 0 \n",
    "\n",
    "#Prompt the user to enter the number of months \n",
    "numberOfMonths = int(input(\"Enter the number of months: \"))\n",
    "\n",
    "for number in range(numberOfMonths):\n",
    "    totalAmount = (savingAmount + totalAmount) * (1 + monthlyInterestRate) \n",
    "    \n",
    "    \n",
    "print(\"The amount in the Savings Amount after\", numberOfMonths, \"months is\", format(totalAmount, \".3f\"))"
   ]
  },
  {
   "cell_type": "markdown",
   "metadata": {},
   "source": [
    "<h2>Financial application: compute CD value</h2>Suppose you put <span>&dollar;</span>10,000 into a CD with an annual percentage yield of 5.75%. After one month, the CD is worth<br>\n",
    "$10000 + 10000* 5.75 / 1200 = 10047.91$ <br>\n",
    "After two months, the CD is worth<br>\n",
    "$10047.91 + 10047.91 * 5.75 / 1200 = 10096.06$<br>\n",
    "After three months, the CD is worth<br>\n",
    "$10096.06 + 10096.06 * 5.75 / 1200 = 10145.43$<br>\n",
    "and so on. Write a program that prompts the user to enter an amount (e.g., 10000), the annual percentage yield (e.g.,5.75), and the number of months (e.g.,18), and displays a table with the values."
   ]
  },
  {
   "cell_type": "code",
   "execution_count": 170,
   "metadata": {},
   "outputs": [
    {
     "name": "stdout",
     "output_type": "stream",
     "text": [
      "Enter the initial deposit amount: 10000\n",
      "Enter annual percentage yield: 5.75\n",
      "Enter maturity period(number of months): 18\n",
      "Month \t CD Value\n",
      "1 \t 10047.92\n",
      "2 \t 10096.06\n",
      "3 \t 10144.44\n",
      "4 \t 10193.05\n",
      "5 \t 10241.89\n",
      "6 \t 10290.97\n",
      "7 \t 10340.28\n",
      "8 \t 10389.82\n",
      "9 \t 10439.61\n",
      "10 \t 10489.63\n",
      "11 \t 10539.89\n",
      "12 \t 10590.40\n",
      "13 \t 10641.14\n",
      "14 \t 10692.13\n",
      "15 \t 10743.37\n",
      "16 \t 10794.84\n",
      "17 \t 10846.57\n",
      "18 \t 10898.54\n"
     ]
    }
   ],
   "source": [
    "#Prompt the user to enter the initial deposit amount\n",
    "initialDepositAmount = float(input(\"Enter the initial deposit amount: \"))\n",
    "\n",
    "#Prompt the user to enter the annual yield percentage\n",
    "yieldPercentage = float(input(\"Enter annual percentage yield: \"))\n",
    "\n",
    "#Prompt the user to enter the maturity period\n",
    "maturityPeriod = int(input(\"Enter maturity period(number of months): \"))\n",
    "\n",
    "totalAmountYielded = initialDepositAmount\n",
    "monthlyInterestRate = yieldPercentage / 1200\n",
    "\n",
    "#Print the header\n",
    "print(\"Month\",\"\\t\", \"CD Value\")\n",
    "\n",
    "for number in range(1,maturityPeriod+1):\n",
    "    totalAmountYielded = totalAmountYielded + (totalAmountYielded * monthlyInterestRate) \n",
    "    print(number,\"\\t\", format(totalAmountYielded, \".2f\"))"
   ]
  },
  {
   "cell_type": "code",
   "execution_count": 174,
   "metadata": {},
   "outputs": [
    {
     "name": "stdout",
     "output_type": "stream",
     "text": [
      "3.0\n"
     ]
    }
   ],
   "source": [
    "summedTotal = 0\n",
    "\n",
    "for number in range(9):\n",
    "    summedTotal = summedTotal + 1 / (math.sqrt(number) + math.sqrt(number + 1))\n",
    "    \n",
    "print(summedTotal)"
   ]
  },
  {
   "cell_type": "code",
   "execution_count": null,
   "metadata": {},
   "outputs": [],
   "source": []
  }
 ],
 "metadata": {
  "kernelspec": {
   "display_name": "Python 3",
   "language": "python",
   "name": "python3"
  },
  "language_info": {
   "codemirror_mode": {
    "name": "ipython",
    "version": 3
   },
   "file_extension": ".py",
   "mimetype": "text/x-python",
   "name": "python",
   "nbconvert_exporter": "python",
   "pygments_lexer": "ipython3",
   "version": "3.6.5"
  }
 },
 "nbformat": 4,
 "nbformat_minor": 2
}
