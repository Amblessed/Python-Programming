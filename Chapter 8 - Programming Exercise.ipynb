{
 "cells": [
  {
   "cell_type": "markdown",
   "metadata": {},
   "source": [
    "<h2>Check SSN</h2>Write a program that prompts the user to enter a Social Security number in the format ddd-dd-dddd, where d is a digit. The program display Valid SSN for a correct Social Security number or Invalid SSN otherwise"
   ]
  },
  {
   "cell_type": "code",
   "execution_count": 2,
   "metadata": {},
   "outputs": [
    {
     "name": "stdout",
     "output_type": "stream",
     "text": [
      "Enter your social security number(xxx-xx-xxxx): 456-456789\n",
      "Invalid Social Security Number\n"
     ]
    }
   ],
   "source": [
    "def isValidSSN(SSN):\n",
    "    validSSN = True\n",
    "    if len(SSN) != 11:\n",
    "        return False\n",
    "    for num in range(len(SSN)):\n",
    "        if num == 3 or num == 6:\n",
    "            if SSN[3] != \"-\" and SSN[6] != \"-\":\n",
    "                return False\n",
    "        else:\n",
    "            if SSN[num].isdigit() != True:\n",
    "                return False\n",
    "    return True\n",
    "\n",
    "def main():\n",
    "    inputSocialNumber = input(\"Enter your social security number(xxx-xx-xxxx): \")\n",
    "    if isValidSSN(inputSocialNumber):\n",
    "        print(\"Valid Social Security Number\")\n",
    "    else:\n",
    "        print(\"Invalid Social Security Number\")\n",
    "\n",
    "main()"
   ]
  },
  {
   "cell_type": "markdown",
   "metadata": {},
   "source": [
    "<h2>Check Substrings</h2>You can check whether a string is a substring of another string by using the find method in the str class. Write your own function to implement find. Write a program that prompts the user to enter two strings and then checks whether the first string is a substring of second string"
   ]
  },
  {
   "cell_type": "code",
   "execution_count": 39,
   "metadata": {},
   "outputs": [
    {
     "name": "stdout",
     "output_type": "stream",
     "text": [
      "Enter two strings a and b separatey by comma to check if a is substring of b: national,international\n",
      "national is a substring international\n"
     ]
    }
   ],
   "source": [
    "def checkSubStrings(stringOne, stringTwo):\n",
    "    lengthOne = len(stringOne)\n",
    "    for num in range(len(stringTwo)):\n",
    "        if stringTwo[num] == stringOne[0] and stringTwo[num : num + lengthOne] == stringOne:\n",
    "            return True\n",
    "    return False\n",
    "\n",
    "def main():\n",
    "    stringOne,stringTwo = input(\"Enter two strings a and b separatey by comma to check if a is substring of b: \").split(\",\")\n",
    "    if checkSubStrings(stringOne, stringTwo):\n",
    "        print(stringOne, \"is a substring\", stringTwo)\n",
    "    else:\n",
    "        print(stringOne, \"is not a substring\", stringTwo)\n",
    "        \n",
    "main()"
   ]
  },
  {
   "cell_type": "markdown",
   "metadata": {},
   "source": [
    "<h2>Check Password</h2>Some Web sites impose certain rules for passwords. Write a function that checks whether a string is a valid password. Suppose the password rules are as follows: <br>\n",
    "1. A password must have at least eight characters\n",
    "2. A password must consist of only letters and digits\n",
    "3. A password must contain at least two digits\n",
    "\n",
    "Write a program that prompts the user to enter a password and displays valid password if the rules are followed or invalid password otherwise"
   ]
  },
  {
   "cell_type": "code",
   "execution_count": 47,
   "metadata": {},
   "outputs": [],
   "source": [
    "def checkPassword(password):\n",
    "    if len(password) < 8:\n",
    "        return False\n",
    "    elif password.isalnum() != True:\n",
    "        return False\n",
    "    else:\n",
    "        count = 0\n",
    "        for num in password:\n",
    "            if num.isdigit():\n",
    "                count = count + 1\n",
    "        if count < 2:\n",
    "            return False\n",
    "    return True"
   ]
  },
  {
   "cell_type": "markdown",
   "metadata": {},
   "source": [
    "<h2>Occurences of a specified character</h2>Write a function that finds the number of occurences of a specified character in a string using the following header:<br>\n",
    "def count(s, ch): <br>\n",
    "The str class has the count method. Implement your method without using the count method. For example, count(\"Welcome\", 'e') returns 2. Write a test program that prompts the user to enter a string followed by a character and displays the number of occurences of the character of character in the string. "
   ]
  },
  {
   "cell_type": "code",
   "execution_count": 51,
   "metadata": {},
   "outputs": [
    {
     "data": {
      "text/plain": [
       "2"
      ]
     },
     "execution_count": 51,
     "metadata": {},
     "output_type": "execute_result"
    }
   ],
   "source": [
    "def count(s, ch):\n",
    "    total = 0\n",
    "    for num in s:\n",
    "        if num == ch:\n",
    "            total = total + 1\n",
    "    return total\n",
    "\n",
    "count(\"Welcome\", \"e\")"
   ]
  },
  {
   "cell_type": "markdown",
   "metadata": {},
   "source": [
    "<h2>Phone keypads</h2>The International standard letter/number mapping for telephone is: 2 - \"abc\", 3 - \"def\", 4 - \"ghi\", 5 - \"jkl\", 6 - \"mno\", 7 - \"pqrs\", 8 - \"tuv\", 9 - \"wxyz\". <br> Write a function that returns a number given a letter, as follows: <br>\n",
    "def getNumber(phoneNumberString): <br>\n",
    "Write a test program that prompts the user to enter a phone number as a string. The input number may contain letters. The program translates a letter(uppercase or lowercase) to a digit and leaves all other characters intact. Here is a sample run:<br>\n",
    "Enter a string: 1-800-Flowers <br>\n",
    "1-800-3569377"
   ]
  },
  {
   "cell_type": "code",
   "execution_count": 12,
   "metadata": {},
   "outputs": [],
   "source": [
    "def getNumber(phoneNumberString):\n",
    "    number = \"\"\n",
    "    for char in phoneNumberString:\n",
    "        if char.isalpha():\n",
    "            char = char.lower()\n",
    "            if char in \"abc\":\n",
    "                number = number + \"2\"\n",
    "            elif char in \"def\":\n",
    "                number = number + \"3\"\n",
    "            elif char in \"ghi\":\n",
    "                number =  number + \"4\"\n",
    "            elif char in \"jkl\":\n",
    "                number = number + \"5\"\n",
    "            elif char in \"mno\":\n",
    "                number = number + \"6\"\n",
    "            elif char in \"pqrs\":\n",
    "                number =  number + \"7\"\n",
    "            elif char in \"tuv\":\n",
    "                number = number + \"8\"\n",
    "            else:\n",
    "                number = number + \"9\"   \n",
    "        else:\n",
    "            number = number + char\n",
    "            \n",
    "    return number"
   ]
  },
  {
   "cell_type": "code",
   "execution_count": 14,
   "metadata": {},
   "outputs": [
    {
     "name": "stdout",
     "output_type": "stream",
     "text": [
      "1-800-3569377\n",
      "18003569377\n"
     ]
    }
   ],
   "source": [
    "print(getNumber(\"1-800-Flowers\"))\n",
    "print(getNumber(\"1800Flowers\"))"
   ]
  },
  {
   "cell_type": "markdown",
   "metadata": {},
   "source": [
    "<h2>Binary to decimal</h2>Write a function that parses a binary number as a string into a decimal integer.Use the function header: <br>\n",
    "def binaryToDecimal(binaryString): <br>\n",
    "E.g, binary string 10001 is 17 ($1 * 2^4 + 0 * 2^3 + 0 * 2^2 + 0 * 2 + 1 = 17)$. So, binaryToDecimal(\"10001\") returns 17. Write a test program that prompts the user to enter a binary string and displays the corresponding decimal integer value. "
   ]
  },
  {
   "cell_type": "code",
   "execution_count": 76,
   "metadata": {},
   "outputs": [
    {
     "name": "stdout",
     "output_type": "stream",
     "text": [
      "Enter a Binary String: 100\n",
      "The corresponding decimal integer value is 4\n"
     ]
    }
   ],
   "source": [
    "def binaryToDecimal(binaryString):\n",
    "    length = len(binaryString) - 1\n",
    "    decimalNumber = 0\n",
    "    for num in binaryString:\n",
    "        num = int(num)\n",
    "        decimalNumber = decimalNumber +  (num * pow(2, length))\n",
    "        length = length - 1\n",
    "    return decimalNumber\n",
    "\n",
    "\n",
    "\n",
    "def main():\n",
    "    inputNumber = input(\"Enter a Binary String: \")\n",
    "    print(\"The corresponding decimal integer value is\",binaryToDecimal(inputNumber))   \n",
    "    \n",
    "main()"
   ]
  },
  {
   "cell_type": "markdown",
   "metadata": {},
   "source": [
    "<h2>Decimal to binary</h2>Write a function that parses a decimal number as a string into a binary integer.Use the function header: <br>\n",
    "def decimalToBinary(value): <br>\n",
    "Write a test program that prompts the user to enter a value and displays the corresponding binary value. "
   ]
  },
  {
   "cell_type": "code",
   "execution_count": 92,
   "metadata": {},
   "outputs": [
    {
     "name": "stdout",
     "output_type": "stream",
     "text": [
      "Enter a decimal number to get it's binary equivalent: 7\n",
      "The Binary Equivalent for 7 is 111\n"
     ]
    }
   ],
   "source": [
    "def decimalToBinary(value):\n",
    "    numbersLeft = True\n",
    "    string = \"\"\n",
    "    while numbersLeft:\n",
    "        times = value // 2\n",
    "        remainder = value % 2\n",
    "        string = string + str(remainder)\n",
    "        value = times\n",
    "        if times == 0:\n",
    "            numbersLeft = False\n",
    "\n",
    "    string = string[::-1]\n",
    "    return string\n",
    "\n",
    "def main():\n",
    "    number = int(input(\"Enter a decimal number to get it's binary equivalent: \"))\n",
    "    print(\"The Binary Equivalent for\", number, \"is\", int(decimalToBinary(number)))\n",
    "    \n",
    "main()"
   ]
  },
  {
   "cell_type": "markdown",
   "metadata": {},
   "source": [
    "<h2>Longest common prefix</h2> Write a method that returns the longest common prefix of two strings. For example, the longest common prefix of distance and disinfection is dis. The header of the method is:\n",
    "def prefix(s1, s2)<br>\n",
    "If the two strings have no common prefix, the method returns an empty string. Write a main method that prompts the user to enter two strings and displays their common prefix. "
   ]
  },
  {
   "cell_type": "code",
   "execution_count": 100,
   "metadata": {},
   "outputs": [
    {
     "name": "stdout",
     "output_type": "stream",
     "text": [
      "dis\n",
      "dis\n"
     ]
    }
   ],
   "source": [
    "def prefix(s1, s2):\n",
    "    lengthOne = len(s1)\n",
    "    lengthTwo = len(s2)\n",
    "    if lengthOne > lengthTwo:\n",
    "        number = lengthTwo\n",
    "    elif lengthTwo > lengthOne:\n",
    "        number = lengthOne\n",
    "    else:\n",
    "        number = lengthOne    #Both strings have the same length\n",
    "    \n",
    "    \n",
    "    stringPrefix = \"\"\n",
    "    for num in range(number):\n",
    "        if s1[num] == s2[num]:\n",
    "            stringPrefix = stringPrefix + s1[num]\n",
    "            \n",
    "    return stringPrefix\n",
    "\n",
    "\n",
    "print(prefix(\"distance\", \"disinfection\"))\n",
    "print(prefix(\"disinfection\", \"distance\"))            "
   ]
  },
  {
   "cell_type": "markdown",
   "metadata": {},
   "source": [
    "<h2>Business: check ISBN-10</h2>An ISBN-10 (International Standard Book Number) consists of 10 digits. The last digit $d_{10}$ is used as a checksum. <br> $(d_1* 1 + d_2 * 2 + d_3 * 3 + d_4 * 4 + d_5 * 5 + d_6 * 6 + d_7 * 7 + d_8 * 8 + d_9 * 9)$ % 11. <br>\n",
    "If the checksum is 10, the last digit is denoted as X, according to the ISBN convention. Write a program that prompts the user to enter the first 9 digits as a string and displays the 10-digit ISBN (including leading zeros). Your program should read the input as a string. "
   ]
  },
  {
   "cell_type": "code",
   "execution_count": 10,
   "metadata": {},
   "outputs": [],
   "source": [
    "def checkISBN(numberString):\n",
    "    total = 0\n",
    "    for num in range(len(numberString)):\n",
    "        total = total + (int(numberString[num]) * (num+1))\n",
    "    \n",
    "    \n",
    "    remainder = total % 11\n",
    "    if remainder == 10:\n",
    "        numberString = numberString + \"X\"\n",
    "    else:\n",
    "        numberString = numberString + str(remainder)\n",
    "        \n",
    "    return numberString"
   ]
  },
  {
   "cell_type": "code",
   "execution_count": 9,
   "metadata": {},
   "outputs": [
    {
     "name": "stdout",
     "output_type": "stream",
     "text": [
      "0136012671\n",
      "013031997X\n"
     ]
    }
   ],
   "source": [
    "print(checkISBN(\"013601267\"))\n",
    "print(checkISBN(\"013031997\"))"
   ]
  },
  {
   "cell_type": "markdown",
   "metadata": {},
   "source": [
    "<h2>Business: check ISBN-13</h2>An ISBN-13 (International Standard Book Number) is a new standard for identifying books. It uses 13 digits . The last digit, $d_{13}$ is a checksum which is calculated from the other digits using the following formula: <br> $10 - (d_1 + d_2 * 3 + d_3 + d_4 * 3 + d_5 + d_6 * 3 + d_7 + d_8 * 3 + d_9 + d_{10} * 3 + d_{11} + d_{12} * 3)$ % 10. <br>\n",
    "If the checksum is 10, replace it with a 0. Your program should read the input as a string. "
   ]
  },
  {
   "cell_type": "code",
   "execution_count": 5,
   "metadata": {},
   "outputs": [],
   "source": [
    "def checkISBNThirteen(numberString):\n",
    "    total = 0\n",
    "    for num in range(len(numberString)):\n",
    "        if num % 2 == 0:\n",
    "            total = total + (int(numberString[num]) * 3)\n",
    "        else:\n",
    "            total = total + int(numberString[num])\n",
    "    \n",
    "    remainder = 10 - (total % 10)\n",
    "    if remainder == 10:\n",
    "        numberString = numberString + \"0\"\n",
    "    else:\n",
    "        numberString = numberString + str(remainder)\n",
    "        \n",
    "    return numberString"
   ]
  },
  {
   "cell_type": "code",
   "execution_count": 8,
   "metadata": {},
   "outputs": [
    {
     "name": "stdout",
     "output_type": "stream",
     "text": [
      "9780132130806\n",
      "9780132130790\n"
     ]
    }
   ],
   "source": [
    "print(checkISBNThirteen(\"978013213080\"))\n",
    "print(checkISBNThirteen(\"978013213079\"))"
   ]
  },
  {
   "cell_type": "markdown",
   "metadata": {},
   "source": [
    "<h2>Point Class</h2>Design a class named Point to represent a point with x- and y- coordinates. The class contains:\n",
    "1. Two private data fields x and y that represents the coordinates with get methods.\n",
    "2. A constructor that constructs a point with specified coordinates with default point (0, 0)\n",
    "3. A method named distance that returns the distance from this point to another point of the Point type\n",
    "4. A method named isNearBy(p1) that returns true if point p1 is close to this point. Two points are close if their distance is less than 5\n",
    "5. Implement the __str__ method to return a string in the form (x, y).\n",
    "\n",
    "Write a test program that prompts the user to enter two points, displays the distance between them, and indicates whether they are near each other. "
   ]
  },
  {
   "cell_type": "code",
   "execution_count": 52,
   "metadata": {},
   "outputs": [],
   "source": [
    "import math\n",
    "\n",
    "class Point:\n",
    "    def __init__(self, x = 0, y = 0):\n",
    "        self.__x = x\n",
    "        self.__y = y\n",
    "        \n",
    "    def getX(self):\n",
    "        return self.__x\n",
    "    \n",
    "    def getY(self):\n",
    "        return self.__y\n",
    "        \n",
    "    def distance(self, Point):\n",
    "        diffX = (self.__x - Point.getX()) ** 2\n",
    "        diffY = (self.__y - Point.getY()) ** 2\n",
    "        dis = math.sqrt(diffX + diffY)\n",
    "        return dis\n",
    "    \n",
    "    def isNearBy(self, Point):\n",
    "        dis = self.distance(Point)\n",
    "        if dis > 5:\n",
    "            return False\n",
    "        else:\n",
    "            return True\n",
    "        \n",
    "    def __str__(self):\n",
    "        return \"(\" + str(self.getX()) + \",\" + str(self.getY()) + \")\"     "
   ]
  },
  {
   "cell_type": "code",
   "execution_count": 54,
   "metadata": {},
   "outputs": [
    {
     "name": "stdout",
     "output_type": "stream",
     "text": [
      "23.97\n",
      "False\n",
      "(2.1,2.3)\n"
     ]
    }
   ],
   "source": [
    "pointOne = Point(2.1, 2.3)\n",
    "pointTwo = Point(19.1, 19.2)\n",
    "dis = pointOne.distance(pointTwo)\n",
    "print(format(dis, \".2f\"))\n",
    "print(pointOne.isNearBy(pointTwo))\n",
    "print(pointOne)"
   ]
  },
  {
   "cell_type": "markdown",
   "metadata": {},
   "source": [
    "<h2>Circle 2D</h2> Define the Circle 2D class that contains:\n",
    "1. Two private float data fields named x and y that specify the center of the circle with get/set methods.\n",
    "2. A private data field radius with get/set methods.\n",
    "3. A constructor that creates a circle with specified x, y, and radius. The default values are all 0.\n",
    "4. A method getArea() that returns the area of the circle\n",
    "5. A method getPerimeter() that returns the perimeter of the circle.\n",
    "6. A method containsPoint(x, y) that returns True if the specified point (x, y) is inside this circle\n",
    "7. A method contains(circle2D) that returns True if the specified circle is inside this circle.\n",
    "8. A method overlaps(circle2D) that returns True if the specified circle overlaps with this circle.\n",
    "9. Implement the <span>&#95;</span><span>&#95;</span>contains__(another) method that returns True if this circle is contained in another circle. \n",
    "10. Implement the <span>&#95;</span><span>&#95;</span>cmp__, <span>&#95;</span><span>&#95;</span>lt__, <span>&#95;</span><span>&#95;</span>le__, <span>&#95;</span><span>&#95;</span>eq__, <span>&#95;</span><span>&#95;</span>ne__, <span>&#95;</span><span>&#95;</span>gt__, <span>&#95;</span><span>&#95;</span>ge__ methods that compares two circles based on their radius. "
   ]
  },
  {
   "cell_type": "code",
   "execution_count": 1,
   "metadata": {},
   "outputs": [],
   "source": [
    "import math\n",
    "\n",
    "class Circle2D:\n",
    "    def __init__(self, x = 0, y = 0, radius = 0):\n",
    "        self.__x = x\n",
    "        self.__y = y\n",
    "        self.__radius = radius\n",
    "        \n",
    "    def getX(self):\n",
    "        return self.__x\n",
    "    \n",
    "    def getY(self):\n",
    "        return self.__y\n",
    "    \n",
    "    def setX(self, x):\n",
    "        self.__x = x\n",
    "        \n",
    "    def setY(self, y):\n",
    "        self.__y = y\n",
    "    \n",
    "    def getRadius(self):\n",
    "        return self.__radius\n",
    "    \n",
    "    def setRadius(self, radius):\n",
    "           self.__radius = radius\n",
    "        \n",
    "    def getArea(self):\n",
    "        return math.pi * self.__radius * self.__radius\n",
    "    \n",
    "    def getPerimeter(self):\n",
    "        return 2 * math.pi * self.__radius\n",
    "    \n",
    "    def containsPoint(self,x,y):\n",
    "        distance = math.sqrt((self.__x - x)**2 + (self.__y - y)**2)\n",
    "        if distance <= self.__radius:\n",
    "            return True\n",
    "        else:\n",
    "            return False\n",
    "    \n",
    "    def contains(self, circle2D):\n",
    "        #circle1 contains circle2 if the distance between the two centers <= |r1 - r2|\n",
    "        distance = math.sqrt((self.__x - circle2D.getX())**2 + (self.__y - circle2D.getY())**2)\n",
    "        if distance <= abs(self.__radius - circle2D.getRadius()):\n",
    "            return True\n",
    "        else:\n",
    "            return False \n",
    "        \n",
    "    def overlaps(self, circle2D):\n",
    "        #circle1 overlaps circle2 if the distance between the two centers <= r1 + r2\n",
    "        distance = math.sqrt((self.__x - circle2D.getX())**2 + (self.__y - circle2D.getY())**2)\n",
    "        if distance <= self.__radius + circle2D.getRadius():\n",
    "            return True\n",
    "        else:\n",
    "            return False\n",
    "        \n",
    "    def __contains__(self, another):\n",
    "        #To be implemented. another is an object of class Circle2D. Verify if another contains circle created. \n",
    "        #circle1 contains circle2 if the distance between the two centers <= |r1 - r2|\n",
    "        distance = math.sqrt((another.getX() - self.__x)**2 + (another.getY() - self.__y)**2)\n",
    "        if distance <= abs(another.getRadius() - self.__radius):\n",
    "            return True\n",
    "        else:\n",
    "            return False "
   ]
  },
  {
   "cell_type": "code",
   "execution_count": 2,
   "metadata": {},
   "outputs": [
    {
     "name": "stdout",
     "output_type": "stream",
     "text": [
      "True\n",
      "False\n",
      "True\n"
     ]
    }
   ],
   "source": [
    "circleOne = Circle2D(5, 5.5, 10)\n",
    "circleTwo = Circle2D(9, 1.3, 10)\n",
    "print(circleOne.containsPoint(circleTwo.getX(), circleTwo.getY()))\n",
    "print(circleOne.contains(circleTwo))\n",
    "print(circleOne.overlaps(circleTwo))"
   ]
  },
  {
   "cell_type": "markdown",
   "metadata": {},
   "source": [
    "<h2>Rectangle 2D</h2> Define the Rectangle 2D class that contains:\n",
    "1. Two float data fields named x and y that specify the center of the rectangle with get/set methods. (Assume that the rectangle sides are parallel to x- or y- axes)\n",
    "2. The data fields width and height with get/set methods.\n",
    "3. A constructor that creates a rectangle with specified x, y, width, and height with default values 0.\n",
    "4. A method getArea() that returns the area of the rectangle.\n",
    "5. A method getPerimeter() that returns the perimeter of the rectangle.\n",
    "6. A method containsPoint(x, y) that returns True if the specified point (x, y) is inside this rectangle.\n",
    "7. A method contains(Rectangle2D) that returns True if the specified rectangle is inside this rectangle.\n",
    "8. A method overlaps(Rectangle2D) that returns True if the specified rectangle overlaps with this rectangle.\n",
    "9. Implement the <span>&#95;</span><span>&#95;</span>contains__(another) method that returns True if this Rectangle is contained in another rectangle. \n",
    "10. Implement the <span>&#95;</span><span>&#95;</span>cmp__, <span>&#95;</span><span>&#95;</span>lt__, <span>&#95;</span><span>&#95;</span>le__, <span>&#95;</span><span>&#95;</span>eq__, <span>&#95;</span><span>&#95;</span>ne__, <span>&#95;</span><span>&#95;</span>gt__, <span>&#95;</span><span>&#95;</span>ge__ methods that compares two rectangle based on their areas. "
   ]
  },
  {
   "cell_type": "code",
   "execution_count": 22,
   "metadata": {},
   "outputs": [],
   "source": [
    "class Rectangle2D:\n",
    "    def __init__(self,x = 0, y = 0, width = 0, height= 0):\n",
    "        self.x = x\n",
    "        self.y = y\n",
    "        self.width = width\n",
    "        self.height = height\n",
    "        \n",
    "    def getX(self):\n",
    "        return self.x\n",
    "    def setX(self,x):\n",
    "        self.x = x\n",
    "        \n",
    "    def getY(self):\n",
    "        return self.y\n",
    "    def setY(self,y):\n",
    "        self.y = y\n",
    "        \n",
    "    def getWidth(self):\n",
    "        return self.width\n",
    "    def setWidth(self, width):\n",
    "        self.width = width\n",
    "        \n",
    "    def getHeight(self):\n",
    "        return self.height\n",
    "    def setHeight(self, height):\n",
    "        self.height = height\n",
    "        \n",
    "    def getArea(self):\n",
    "        return self.width * self.height\n",
    "    \n",
    "    def getPerimeter(self):\n",
    "        return 2 * (self.width + self.height)\n",
    "    \n",
    "    def containsPoint(self,x,y):\n",
    "        \"\"\"\n",
    "        A point is in the rectangle if its horizontal distance to the centre(x-center, y-center) is less than width / 2 and \n",
    "        its vertical distance to the centre (x-center, y-center) is less than or equal to height / 2. \n",
    "        \"\"\"\n",
    "        #Compute the distance to the origin\n",
    "        horizontalDistance = self.x - x \n",
    "        verticalDistance = self.y - y\n",
    "\n",
    "        widthDivision = self.width / 2   #float division\n",
    "        heightDivision = self.height / 2   #float division\n",
    "        \n",
    "        if horizontalDistance <= widthDivision and verticalDistance <= heightDivision:\n",
    "            return True\n",
    "        else:\n",
    "            return False\n",
    " \n",
    "    \n",
    "    def contains(self,Rectangle2D):\n",
    "        horizontalDistance = self.x - Rectangle2D.getX() \n",
    "        verticalDistance = self.y - Rectangle2D.getY()\n",
    "\n",
    "        widthDivision = self.width / 2   #float division\n",
    "        heightDivision = self.height / 2   #float division\n",
    "        \n",
    "        if horizontalDistance <= widthDivision and verticalDistance <= heightDivision:\n",
    "            return True\n",
    "        else:\n",
    "            return False\n",
    "     \n",
    "    def overlaps(self,Rectangle2D):\n",
    "        #if  x < r.x + r.width && x + width > r.x && y < r.y + r.height && y + height > r.y;\n",
    "        x = self.getX() < Rectangle2D.getX() + Rectangle2D.getWidth()\n",
    "        x2 = self.getX() + self.getWidth() > Rectangle2D.getWidth()\n",
    "        y = self.getY() < Rectangle2D.getY() + Rectangle2D.getHeight()\n",
    "        y2 = self.getY() + self.height > Rectangle2D.getHeight()\n",
    "        if x and x2 and y and y2:\n",
    "            return True\n",
    "        else:\n",
    "            return False\n",
    "    \n",
    "    def __contains__(self,Rectangle2D):\n",
    "        horizontalDistance = Rectangle2D.getX()  - self.x \n",
    "        verticalDistance = Rectangle2D.getY() - self.y \n",
    "\n",
    "        widthDivision = Rectangle2D.getWidth() / 2   #float division\n",
    "        heightDivision = Rectangle2D.getHeight() / 2   #float division\n",
    "        \n",
    "        if horizontalDistance <= widthDivision and verticalDistance <= heightDivision:\n",
    "            return True\n",
    "        else:\n",
    "            return False\n",
    "        \n",
    " #(self,x = 0, y = 0, width = 0, height= 0)       "
   ]
  },
  {
   "cell_type": "code",
   "execution_count": 23,
   "metadata": {},
   "outputs": [
    {
     "name": "stdout",
     "output_type": "stream",
     "text": [
      "Area of r1 is 353.0\n",
      "Perimeter of r1 is 90.6\n",
      "Area of r2 is 21.2\n",
      "Perimeter of r2 is 18.6\n",
      "rectangleOne contains the center of rectangleTwo? False\n",
      "rectangleOne contains rectangleTwo? False\n",
      "rectangleOne overlaps rectangleTwo? False\n",
      "False\n"
     ]
    }
   ],
   "source": [
    "rectangleOne = Rectangle2D(9, 1.3, 10, 35.3)\n",
    "rectangleTwo = Rectangle2D(1.3, 4.3, 4, 5.3)\n",
    "print(\"Area of r1 is\",rectangleOne.getArea())\n",
    "print(\"Perimeter of r1 is\", rectangleOne.getPerimeter())\n",
    "print(\"Area of r2 is\",rectangleTwo.getArea())\n",
    "print(\"Perimeter of r2 is\",rectangleTwo.getPerimeter())\n",
    "print(\"rectangleOne contains the center of rectangleTwo?\",rectangleOne.containsPoint(rectangleTwo.getX(), rectangleTwo.getY()))\n",
    "print(\"rectangleOne contains rectangleTwo?\",rectangleOne.contains(rectangleTwo))\n",
    "print(\"rectangleOne overlaps rectangleTwo?\",rectangleOne.overlaps(rectangleTwo))\n",
    "print(rectangleOne.__contains__(rectangleTwo))"
   ]
  },
  {
   "cell_type": "code",
   "execution_count": null,
   "metadata": {},
   "outputs": [],
   "source": []
  }
 ],
 "metadata": {
  "kernelspec": {
   "display_name": "Python 3",
   "language": "python",
   "name": "python3"
  },
  "language_info": {
   "codemirror_mode": {
    "name": "ipython",
    "version": 3
   },
   "file_extension": ".py",
   "mimetype": "text/x-python",
   "name": "python",
   "nbconvert_exporter": "python",
   "pygments_lexer": "ipython3",
   "version": "3.6.5"
  }
 },
 "nbformat": 4,
 "nbformat_minor": 2
}
