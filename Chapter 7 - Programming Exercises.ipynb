{
 "cells": [
  {
   "cell_type": "markdown",
   "metadata": {},
   "source": [
    "<h2>Rectangle Class</h2> Design a class named Rectangle to represent a rectangle. The class contains:<br>\n",
    "1. Two data fields named width and height<br>\n",
    "2. A constructor that creates a rectangle with the specified width and height. The default values are 1 and 2 for the width and height respectively<br>\n",
    "3. A method named getArea() that returns the area of this rectangle<br>\n",
    "4. A method named getPerimeter() that returns the perimeter<br>\n",
    "Write a test program that creates two Rectangle Objects - one with width 4 and height 40 and the other with width 3.5 and height 35.7. Display the width, height, area, and perimeter of each rectangle in this order"
   ]
  },
  {
   "cell_type": "code",
   "execution_count": 14,
   "metadata": {},
   "outputs": [
    {
     "name": "stdout",
     "output_type": "stream",
     "text": [
      "Rectangle One:\n",
      "Width:4 Height:40 Area:160 Perimeter:88\n",
      "\n",
      "Rectangle Two:\n",
      "Width:3.5 Height:35.7 Area:124.950 Perimeter:78.4\n"
     ]
    }
   ],
   "source": [
    "import math \n",
    "\n",
    "\n",
    "class Rectangle:\n",
    "    def __init__(self, width = 1, height = 2):\n",
    "        self.width = width\n",
    "        self.height = height\n",
    "        \n",
    "    def getArea(self):\n",
    "        return self.width * self.height\n",
    "    \n",
    "    def getPerimeter(self):\n",
    "        return 2 * (self.width + self.height)\n",
    "    \n",
    "def main():\n",
    "    rectangleOne = Rectangle(4, 40)\n",
    "    rectangleTwo = Rectangle(3.5, 35.7)\n",
    "    \n",
    "    print(\"Rectangle One:\")\n",
    "    print(\"Width:\" + str(rectangleOne.width) + \" \" + \"Height:\" + str(rectangleOne.height), end = \" \")\n",
    "    print(\"Area:\" + str(rectangleOne.getArea()) + \" \" + \"Perimeter:\" + str(rectangleOne.getPerimeter()))\n",
    "    print()\n",
    "    print(\"Rectangle Two:\")\n",
    "    print(\"Width:\" + str(rectangleTwo.width) + \" \" + \"Height:\" + str(rectangleTwo.height), end = \" \")\n",
    "    print(\"Area:\" + str(format(rectangleTwo.getArea(), \".3f\")) + \" \" + \"Perimeter:\" + str(rectangleTwo.getPerimeter()))\n",
    "    \n",
    "main()"
   ]
  },
  {
   "cell_type": "markdown",
   "metadata": {},
   "source": [
    "<h2>Stock Class</h2>Design a class named <span style=\"color: blue; font-weight:bold\">Stock</span> to represent a company's stock that contains:<br>\n",
    "1. A private string data field named <span style=\"color: blue; font-weight:bold\">symbol</span> for the stock's symbol.\n",
    "2. A private string data field named <span style=\"color: blue; font-weight:bold\">name</span> for the stock's name\n",
    "3. A private float data field named <span style=\"color: blue; font-weight:bold\">previousClosingPrice</span> that stores the stock price for the previous day\n",
    "4. A private float data field named <span style=\"color: blue; font-weight:bold\">currentPrice</span> that stores the stock price for the current time\n",
    "5. A constructor that creates a stock with the specified symbol, name, previous price and current price\n",
    "6. A get method for returning the stock name\n",
    "7. A get method for returning the stock symbol\n",
    "8. Get and set methods for getting/setting the stock's previous price\n",
    "9. Get and set methods for getting/setting the stock's current price\n",
    "10. A method named <span style=\"color: blue; font-weight:bold\">getChangePercent()</span> that returns the percentage changed from <span style=\"color: blue; font-weight:bold\">previousClosingPrice</span> to <span style=\"color: blue; font-weight:bold\">currentPrice</span> <br>\n",
    "Write a test program that creates a Stock object with the stock symbol INTC, the name Intel Corporation, the previous closing price of 20.5, and the new current price of 20.35, and display the price-change percentage"
   ]
  },
  {
   "cell_type": "code",
   "execution_count": 22,
   "metadata": {},
   "outputs": [
    {
     "name": "stdout",
     "output_type": "stream",
     "text": [
      "Percentage change in Intel Corporation was -0.732%\n"
     ]
    }
   ],
   "source": [
    "class Stock:\n",
    "    def __init__(self, symbol, name, previousClosingPrice, currentPrice):\n",
    "        self.__symbol = symbol\n",
    "        self.__name = name\n",
    "        self.__previousClosingPrice = previousClosingPrice\n",
    "        self.__currentPrice = currentPrice\n",
    "        \n",
    "        \n",
    "    def getStockName(self):\n",
    "        return self.__name\n",
    "    \n",
    "    def getStockSymbol(self):\n",
    "        return self.__symbol\n",
    "    \n",
    "    def getStockPreviousPrice(self):\n",
    "        return self.__previousClosingPrice\n",
    "    \n",
    "    def setStockPreviousPrice(self, previousClosingPrice):\n",
    "        self.__previousClosingPrice = previousClosingPrice\n",
    "        \n",
    "    def getCurrentPrice(self):\n",
    "        return self.__currentPrice\n",
    "    \n",
    "    def setCurrentPrice(self, currentPrice):\n",
    "        self.__currentPrice = currentPrice\n",
    "        \n",
    "    def getChangePercent(self):\n",
    "        percentChange = ((self.__currentPrice - self.__previousClosingPrice) / self.__previousClosingPrice) * 100\n",
    "        return percentChange\n",
    "    \n",
    "    \n",
    "def main():\n",
    "    stockIntel = Stock(\"INTC\", \"Intel Corporation\", 20.5, 20.35)\n",
    "    print(\"Percentage change in \" + stockIntel.getStockName() + \" was \" + str(format(stockIntel.getChangePercent(), \".3f\")) + \"%\")\n",
    "    \n",
    "main()"
   ]
  },
  {
   "cell_type": "markdown",
   "metadata": {},
   "source": [
    "<h2>Account Class</h2> Design a class named <span style=\"color: blue; font-weight:bold\">Account</span> that contains: <br>\n",
    "1. A private int data field named <span style=\"color: blue; font-weight:bold\">customerID</span> for the account \n",
    "2. A private float data field named balance for the account\n",
    "3. A private float data field named <span style=\"color: blue; font-weight:bold\">annualInterestRate</span> that stores the current interest rate.\n",
    "4. A constructor that creates an account with the specified id (default 0), initial balance (default 100), and annual interest rate (default 0)\n",
    "5. The accessor and mutator methods for <span style=\"color: blue; font-weight:bold\">id, balance, </span>and <span style=\"color: blue; font-weight:bold\">annualInterestRate</span>\n",
    "6. A method named <span style=\"color: blue; font-weight:bold\">getMonthlyInterestRate()</span> that returns the monthly interest rate\n",
    "7. A method named getMonthlyInterest() that returns the monthly interest\n",
    "8. A method named withdraw that withdraws a specified amount from the account\n",
    "9. A method named deposit that deposits a specified amount to the account\n",
    "\n",
    "\n",
    "Draw the UML diagram for the class, and then implement the class. (Hint: The method getMonthlyInterest() is return the monthly interest amount, not the interest rate. Use this formula to calculate the monthly interest: $balance * monthlyInterestRate$. monthlyInterestRate is $\\frac{annualInterestRate}{12}$. Note that annualInterestRate is a percent (like 4.5%). You need to divide it by 100.) <br>\n",
    "Write a test program that creates an Account object with an account id of 1122, a balance of <span>&#36;</span>20,000 and an annual interest rate of 4.5%. Use the withdraw method to withdraw <span>&#36;</span>2,500, use the deposit method to deposit <span>&#36;</span>3,000 and print the id, balance, monthly interest rate, and monthly interest."
   ]
  },
  {
   "cell_type": "code",
   "execution_count": 25,
   "metadata": {},
   "outputs": [
    {
     "name": "stdout",
     "output_type": "stream",
     "text": [
      "Insufficient funds to perform this Operation\n",
      "20000\n",
      "23000\n",
      "CustomerID:1122\n",
      "Balance:23000\n",
      "Monthly Interest Rate:0.00375\n",
      "Monthly Interest:86.25\n"
     ]
    }
   ],
   "source": [
    "class Account:\n",
    "    def __init__(self, customerID = 0, balance = 100, annualInterest = 0):\n",
    "        self.__customerID = customerID\n",
    "        self.__balance = balance\n",
    "        self.__annualInterest = annualInterest\n",
    "        \n",
    "    def getCustomerID(self):\n",
    "        return self.__customerID\n",
    "    \n",
    "    def setCustomerID(self, customerID):\n",
    "        self.__customerID = customerID\n",
    "        \n",
    "    def getBalance(self):\n",
    "        return self.__balance\n",
    "    \n",
    "    def setBalance(self, balance):\n",
    "        self.__balance = balance\n",
    "        \n",
    "    def getAnnualInterest(self):\n",
    "        return self.__annualInterest\n",
    "    \n",
    "    def setAnnualInterest(self, annualInterest):\n",
    "        self.__annualInterest = annualInterest\n",
    "    \n",
    "    def getMonthlyInterestRate(self):\n",
    "        monthlyInterestRate = self.__annualInterest / 1200\n",
    "        return monthlyInterestRate\n",
    "    \n",
    "    def getMonthlyInterest(self):\n",
    "        monthlyInterest = self.__balance * self.getMonthlyInterestRate()\n",
    "        return monthlyInterest\n",
    "    \n",
    "    def withdraw(self,amount):\n",
    "        if self.__balance > amount:\n",
    "            self.__balance = self.__balance - amount\n",
    "        else:\n",
    "            print(\"Insufficient funds to perform this Operation\")\n",
    "        \n",
    "    def deposit(self,amount):\n",
    "        self.__balance = self.__balance + amount\n",
    "        \n",
    "accountOne = Account(1122, 20000, 4.5)\n",
    "accountOne.withdraw(25000)\n",
    "print(accountOne.getBalance())\n",
    "accountOne.deposit(3000)\n",
    "print(accountOne.getBalance())\n",
    "\n",
    "print(\"CustomerID:\" + str(accountOne.getCustomerID()))\n",
    "print(\"Balance:\" + str(accountOne.getBalance()))\n",
    "print(\"Monthly Interest Rate:\" + str(accountOne.getMonthlyInterestRate()))\n",
    "print(\"Monthly Interest:\" + str(accountOne.getMonthlyInterest()))"
   ]
  },
  {
   "cell_type": "markdown",
   "metadata": {},
   "source": [
    "<h2>Fan Class</h2> Design a class named FAN to represent a fan. The class contains:\n",
    "1. Three constants named SLOW, MEDIUM, and FAST with the values 1, 2, 3 to denote the fan speed\n",
    "2. A private int data field named speed that specifies the speed of the fan\n",
    "3. A private bool data field named on that specifies whether the fan is on (the default is False)\n",
    "4. A private float data field named radius that specifies the radius of the fan\n",
    "5. A private string data field named color that specifies the color of the fan\n",
    "6. The accessor and mutator methods for all four data fields\n",
    "7. A constructor that creates a fan with the specified speed (default SLOW), radius (default 5), color (default blue), and on (default False). <br>\n",
    "\n",
    "Draw the UML diagram for the class and then implement the class. Write a test program that creates two Fan Objects. For the first object, assign the maximum speed, radius 10, color yellow, and turn it on. Assign medium speed, radius 5, color blue, and turn it off for the second object. Display each object's speed, radius, color, and on properties.\n",
    "\n"
   ]
  },
  {
   "cell_type": "code",
   "execution_count": 7,
   "metadata": {},
   "outputs": [],
   "source": [
    "class FAN:\n",
    "    SLOW = 1\n",
    "    MEDIUM = 2\n",
    "    FAST = 3\n",
    "    \n",
    "    def __init__(self, speed = \"SLOW\", radius = 5, color = \"blue\", on = False):\n",
    "        self.__speed = speed\n",
    "        self.__radius = radius\n",
    "        self.__color = color\n",
    "        self.__on = on\n",
    "        \n",
    "    def getSpeed(self):\n",
    "        return self.__speed\n",
    "    def setSpeed(self, speed):\n",
    "        self.__speed = speed\n",
    "        \n",
    "    def getRadius(self):\n",
    "        return self.__radius\n",
    "    def setRadius(self, radius):\n",
    "        self.__radius = radius\n",
    "    \n",
    "    def getColor(self):\n",
    "        return self.__color\n",
    "    def setColor(self, color):\n",
    "        self.__color = color\n",
    "        \n",
    "    def getOn(self):\n",
    "        return self.__on\n",
    "    def setOn(self, on):\n",
    "        self.__on = on\n",
    "        \n",
    "\n",
    "fanOne = FAN(\"FAST\",10,\"yellow\",True)\n",
    "fanTwo = FAN(\"MEDIUM\", 5, \"blue\", False)"
   ]
  },
  {
   "cell_type": "code",
   "execution_count": 9,
   "metadata": {},
   "outputs": [
    {
     "name": "stdout",
     "output_type": "stream",
     "text": [
      "FAST 10 yellow True\n",
      "MEDIUM 5 blue False\n"
     ]
    }
   ],
   "source": [
    "print(fanOne.getSpeed(), fanOne.getRadius(), fanOne.getColor(), fanOne.getOn())\n",
    "print(fanTwo.getSpeed(), fanTwo.getRadius(), fanTwo.getColor(), fanTwo.getOn())"
   ]
  },
  {
   "cell_type": "markdown",
   "metadata": {},
   "source": [
    "<h2>Stopwatch</h2> Design a class named Stopwatch. The class contains:\n",
    "1. The private data fields startTime and endTime with get methods\n",
    "2. A constructor that initializes startTime with the current time\n",
    "3. A method named start() that resets the startTime to the current time\n",
    "4. A method named stop() that sets the endTime to the current time\n",
    "5. A method named getElapsedTime() that returns the elapsed time for the stop watch in milliseconds\n",
    "\n",
    "Draw the UML diagram for the class, and then implement the class. Write a test program that measures the execution time of adding numbers from 1 to 1,000, 000"
   ]
  },
  {
   "cell_type": "code",
   "execution_count": 21,
   "metadata": {},
   "outputs": [
    {
     "name": "stdout",
     "output_type": "stream",
     "text": [
      "500000500000\n",
      "0.09097027778625488\n"
     ]
    }
   ],
   "source": [
    "import time\n",
    "\n",
    "class StopWatch:\n",
    "    def __init__(self, startTime = time.time(), endTime = 0):\n",
    "        self.__startTime = startTime\n",
    "        self.__endTime = endTime\n",
    "        \n",
    "    def getStartTime(self):\n",
    "        return self.__startTime\n",
    "    def getEndTime(self):\n",
    "        return self.__endTime\n",
    "    \n",
    "    def start(self):\n",
    "        self.__startTime = time.time()\n",
    "    def stop(self):\n",
    "        self.__endTime = time.time()\n",
    "        \n",
    "    def getElapsedTime(self):\n",
    "        return self.__endTime - self.__startTime\n",
    "    \n",
    "    \n",
    "startTimer = StopWatch()\n",
    "total = 0\n",
    "startTimer.start()\n",
    "for num in range(1, 1000001):\n",
    "    total = total + num\n",
    "startTimer.stop()\n",
    "print(total)\n",
    "\n",
    "\n",
    "print(startTimer.getElapsedTime())"
   ]
  },
  {
   "cell_type": "code",
   "execution_count": null,
   "metadata": {},
   "outputs": [],
   "source": []
  }
 ],
 "metadata": {
  "kernelspec": {
   "display_name": "Python 3",
   "language": "python",
   "name": "python3"
  },
  "language_info": {
   "codemirror_mode": {
    "name": "ipython",
    "version": 3
   },
   "file_extension": ".py",
   "mimetype": "text/x-python",
   "name": "python",
   "nbconvert_exporter": "python",
   "pygments_lexer": "ipython3",
   "version": "3.6.4"
  }
 },
 "nbformat": 4,
 "nbformat_minor": 2
}
