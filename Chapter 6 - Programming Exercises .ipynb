{
 "cells": [
  {
   "cell_type": "code",
   "execution_count": 152,
   "metadata": {},
   "outputs": [],
   "source": [
    "import math\n",
    "import random"
   ]
  },
  {
   "cell_type": "markdown",
   "metadata": {},
   "source": [
    "<h2>Math: Pentagonal numbers</h2>A pentagonal number is defined as $\\frac{n(3n - 1)}{2}$ for n = 1, 2, ...., and so on. So, the first few numbers are 1, 5, 12, 22, ...Write a function with the following header that returns a pentagonal number: <br>\n",
    "<span style=\"color: blue\">def</span> getPentagonalNumber (n): <br>\n",
    "Write a test program that uses this function to display the first 100 pentagonal numbers with 10 numbers on each line"
   ]
  },
  {
   "cell_type": "code",
   "execution_count": 177,
   "metadata": {},
   "outputs": [
    {
     "name": "stdout",
     "output_type": "stream",
     "text": [
      "Enter the number of pentagonal numbers you want displayed: 100\n",
      "    1     5    12    22    35    51    70    92   117   145 \n",
      "  176   210   247   287   330   376   425   477   532   590 \n",
      "  651   715   782   852   925  1001  1080  1162  1247  1335 \n",
      " 1426  1520  1617  1717  1820  1926  2035  2147  2262  2380 \n",
      " 2501  2625  2752  2882  3015  3151  3290  3432  3577  3725 \n",
      " 3876  4030  4187  4347  4510  4676  4845  5017  5192  5370 \n",
      " 5551  5735  5922  6112  6305  6501  6700  6902  7107  7315 \n",
      " 7526  7740  7957  8177  8400  8626  8855  9087  9322  9560 \n",
      " 9801 10045 10292 10542 10795 11051 11310 11572 11837 12105 \n",
      "12376 12650 12927 13207 13490 13776 14065 14357 14652 14950 \n"
     ]
    }
   ],
   "source": [
    "#Define the function \n",
    "def getPentagonalNumber(n):\n",
    "    count = 0   #Initialize a count variable for the printing 10 numbers per line\n",
    "    for number in range(1, n+1):\n",
    "        num = (number * (3 * number - 1)) // 2\n",
    "        print(format(num, \"5d\"), end = \" \")\n",
    "        count = count + 1\n",
    "        if count % 10 == 0:\n",
    "            print()\n",
    "            \n",
    "            \n",
    "def main():\n",
    "    userInput = int(input(\"Enter the number of pentagonal numbers you want displayed: \"))\n",
    "    getPentagonalNumber(userInput)\n",
    "\n",
    "main()"
   ]
  },
  {
   "cell_type": "markdown",
   "metadata": {},
   "source": [
    "<h2>Sum the digits in an integer</h2> Write a function that computes the sum of digits in an integer. Use the following header:<br> <span style=\"color: blue\">def</span> sumDigits(n):<br> For example, sumDigits(234) returns 9(2 + 3 + 4). Hint(:Use the % operator to extract digits, and the // operator to remove the extracted digit. For instance, to extract 4 from 234, use 234 % 10 (= 4). To remove 4 from 234, use 234 // 10 (=23). Use a loop to repeatedly extract and remove the digits until all the digits are extracted.) Write a test program that prompts the user to enter an integer and displays the sum of all its digits. "
   ]
  },
  {
   "cell_type": "code",
   "execution_count": 179,
   "metadata": {},
   "outputs": [],
   "source": [
    "#Define the function\n",
    "def sumDigits(number):\n",
    "    sumOfDigits = 0\n",
    "    notEnd = True\n",
    "    lastDigit = number % 10\n",
    "    remainingDigits = number // 10\n",
    "    sumOfDigits = sumOfDigits + lastDigit\n",
    "    while notEnd:\n",
    "        lastDigit = remainingDigits % 10\n",
    "        remainingDigits = remainingDigits // 10\n",
    "        sumOfDigits = sumOfDigits + lastDigit\n",
    "        if remainingDigits == 0:\n",
    "            notEnd = False\n",
    "    return sumOfDigits"
   ]
  },
  {
   "cell_type": "code",
   "execution_count": 180,
   "metadata": {},
   "outputs": [
    {
     "name": "stdout",
     "output_type": "stream",
     "text": [
      "23\n"
     ]
    }
   ],
   "source": [
    "print(sumDigits(4586))"
   ]
  },
  {
   "cell_type": "markdown",
   "metadata": {},
   "source": [
    "<h2>Palindrome Integer</h2> Write the functions with the following headers: <br>\n",
    "<span style=\"color: blue\">def</span> reverse(number):  # Return the reversal of an integer, e.g. reverse (456) returns # 654<br>\n",
    "<span style=\"color: blue\">def</span> isPalindrome(number):  # Return true if number is a palindrome. <br> Use the reverse function to implement isPalindrome. A number is a palindrome if its reversal is the same as itself. Write a test program that prompts the user to enter an integer and reports whether the integer is a palindrome.  "
   ]
  },
  {
   "cell_type": "code",
   "execution_count": 48,
   "metadata": {},
   "outputs": [
    {
     "name": "stdout",
     "output_type": "stream",
     "text": [
      "Enter a number to check if it is a palindrome: 321\n",
      "The number is not a palindrome\n"
     ]
    }
   ],
   "source": [
    "def reverse(number):\n",
    "    import math\n",
    "    sumDigits = 0\n",
    "    notEnd = True\n",
    "    lastDigit = number % 10\n",
    "    remainingDigits = number // 10\n",
    "    count = 1\n",
    "    while notEnd:\n",
    "        lastDigit = remainingDigits % 10\n",
    "        remainingDigits = remainingDigits // 10\n",
    "        count = count + 1\n",
    "        if remainingDigits == 0:\n",
    "            notEnd = False      #This first function is used to get the number of digits in the number\n",
    "            \n",
    "    sumDigitsTwo = 0\n",
    "    notEndTwo = True\n",
    "    lastDigitTwo = number % 10\n",
    "    remainingDigitsTwo = number // 10\n",
    "    count = count - 1\n",
    "    sumDigitsTwo = sumDigitsTwo + lastDigitTwo * pow(10, count)\n",
    "    while notEndTwo:\n",
    "        count = count - 1\n",
    "        lastDigitTwo = remainingDigitsTwo % 10\n",
    "        sumDigitsTwo = sumDigitsTwo + lastDigitTwo * pow(10, count)\n",
    "        remainingDigitsTwo = remainingDigitsTwo // 10\n",
    "        if remainingDigitsTwo == 0:\n",
    "            notEndTwo = False\n",
    "    return sumDigitsTwo\n",
    "\n",
    "\n",
    "def isPalindrome(number):\n",
    "    reversedNumber = reverse(number)\n",
    "    if reversedNumber == number:\n",
    "        return True\n",
    "    else:\n",
    "        return False\n",
    "\n",
    "    \n",
    "def main():\n",
    "    userNumber = int(input(\"Enter a number to check if it is a palindrome: \"))\n",
    "    returnValue = isPalindrome(userNumber)\n",
    "    if returnValue:\n",
    "        print(\"The number is a palindrome\")\n",
    "    else:\n",
    "        print(\"The number is not a palindrome\")\n",
    "          \n",
    "main() "
   ]
  },
  {
   "cell_type": "markdown",
   "metadata": {},
   "source": [
    "<h2>Palindromic Prime</h2> A palindromic prime is a prime number that is also palindromic. For example, 131 is a prime and also a palindromic prime, as are 313 and 757. Write a program that displays the first 100 palindromic prime numbers. Display 10 numbers per line. <br>"
   ]
  },
  {
   "cell_type": "code",
   "execution_count": 47,
   "metadata": {},
   "outputs": [
    {
     "name": "stdout",
     "output_type": "stream",
     "text": [
      "    2     3     5     7    11   101   131   151   181   191 \n",
      "  313   353   373   383   727   757   787   797   919   929 \n",
      "10301 10501 10601 11311 11411 12421 12721 12821 13331 13831 \n",
      "13931 14341 14741 15451 15551 16061 16361 16561 16661 17471 \n",
      "17971 18181 18481 19391 19891 19991 30103 30203 30403 30703 \n",
      "30803 31013 31513 32323 32423 33533 34543 34843 35053 35153 \n",
      "35353 35753 36263 36563 37273 37573 38083 38183 38783 39293 \n",
      "70207 70507 70607 71317 71917 72227 72727 73037 73237 73637 \n",
      "74047 74747 75557 76367 76667 77377 77477 77977 78487 78787 \n",
      "78887 79397 79697 79997 90709 91019 93139 93239 93739 94049 \n"
     ]
    }
   ],
   "source": [
    "#  2   3   5   7  11 101 131 151 181 191 \n",
    "#313 353 373 383 727 757 787 797 919 929\n",
    "\n",
    "def isPrime(number):\n",
    "    divisor = 2\n",
    "    isPrime = True\n",
    "    while divisor <= number / 2:\n",
    "        if number % divisor == 0:\n",
    "            isPrime = False\n",
    "            break\n",
    "        divisor += 1\n",
    "        \n",
    "    if isPrime:\n",
    "        return True\n",
    "    else:\n",
    "        return False\n",
    "    \n",
    "def displayPalindromicNumbers(number):\n",
    "    count = 0\n",
    "    displayNumber = 0\n",
    "    startNumber = 2\n",
    "    while displayNumber < number:\n",
    "        if isPrime(startNumber):\n",
    "            if startNumber < 10:\n",
    "                print(format(startNumber,\"5d\"), end = \" \")\n",
    "                count = count + 1\n",
    "                displayNumber = displayNumber + 1\n",
    "            else:\n",
    "                if isPalindrome(startNumber):\n",
    "                    print(format(startNumber, \"5d\"), end = \" \")\n",
    "                    count = count + 1\n",
    "                    displayNumber = displayNumber + 1\n",
    "                    if count % 10 == 0:\n",
    "                        print()\n",
    "        startNumber = startNumber + 1\n",
    "\n",
    "                \n",
    "displayPalindromicNumbers(100)"
   ]
  },
  {
   "cell_type": "markdown",
   "metadata": {},
   "source": [
    "<h2>Emirp</h2> An emirp (prime spelled backward) is a nonpanlindromic prime number whose reversal is also a prime. For example, both 17 and 71 are prime numbers, so 17 and 71 are emirps. Write a program that displays the first 100 emirps. Display 10 numbers per line and align the numbers properly."
   ]
  },
  {
   "cell_type": "code",
   "execution_count": 181,
   "metadata": {},
   "outputs": [
    {
     "name": "stdout",
     "output_type": "stream",
     "text": [
      "   13    17    31    37    71    73    79    97   107   113 \n",
      "  149   157   167   179   199   311   337   347   359   389 \n",
      "  701   709   733   739   743   751   761   769   907   937 \n",
      "  941   953   967   971   983   991  1009  1021  1031  1033 \n",
      " 1061  1069  1091  1097  1103  1109  1151  1153  1181  1193 \n",
      " 1201  1213  1217  1223  1229  1231  1237  1249  1259  1279 \n",
      " 1283  1301  1321  1381  1399  1409  1429  1439  1453  1471 \n",
      " 1487  1499  1511  1523  1559  1583  1597  1601  1619  1657 \n",
      " 1669  1723  1733  1741  1753  1789  1811  1831  1847  1867 \n",
      " 1879  1901  1913  1933  1949  1979  3011  3019  3023  3049 \n"
     ]
    }
   ],
   "source": [
    "def Emirp(number):\n",
    "    count = 0\n",
    "    displayNumber = 0\n",
    "    startNumber = 12\n",
    "    while displayNumber < number:\n",
    "        if isPrime(startNumber) and isPrime(reverse(startNumber)) and reverse(startNumber) != startNumber:\n",
    "            print(format(startNumber, \"5d\"), end = \" \")\n",
    "            count = count + 1\n",
    "            displayNumber = displayNumber + 1\n",
    "            if count % 10 == 0:\n",
    "                print()\n",
    "        startNumber = startNumber + 1\n",
    "        \n",
    "Emirp(100)"
   ]
  },
  {
   "cell_type": "markdown",
   "metadata": {},
   "source": [
    "<h2>Financial application: compute the future investment value</h2> Write a function that computes a future investment value at a given interest rate for a specified number of years. The future investment is determined using the formula: <br>\n",
    "$$futureInvestmentValue = investmentAmount * {(1 + monthlyInterestRate)^n}$$ where n is the number of months. Use the following header: <br>\n",
    "def futureInvestmentValue(investmentAmount, monthlyInterestRate, years):<br>\n",
    "For example, futureInvestmentValue(10000, 0.05/12, 5) returns 12833.59. Write a test program that prompts the user to enter the investment amount and the annual interest rate in percent and prints a table that display the future value for the years 1 to 10. \n"
   ]
  },
  {
   "cell_type": "code",
   "execution_count": 56,
   "metadata": {},
   "outputs": [
    {
     "name": "stdout",
     "output_type": "stream",
     "text": [
      "Enter the amount to invest: 1000\n",
      "Enter Annual Interest Rate: 9\n",
      "Years \t Future Value\n",
      "1 \t 1093.81\n",
      "2 \t 1196.41\n",
      "3 \t 1308.65\n",
      "4 \t 1431.41\n",
      "5 \t 1565.68\n",
      "6 \t 1712.55\n",
      "7 \t 1873.20\n",
      "8 \t 2048.92\n",
      "9 \t 2241.12\n",
      "10 \t 2451.36\n"
     ]
    }
   ],
   "source": [
    "def futureInvestmentValue(investmentAmount, monthlyInterestRate, years):\n",
    "    numberOfMonths = years * 12\n",
    "    futureInvestmentAmount = investmentAmount * ((1 + monthlyInterestRate) ** numberOfMonths)\n",
    "    return futureInvestmentAmount\n",
    "\n",
    "\n",
    "\n",
    "def main():\n",
    "    amountToInvest = float(input(\"Enter the amount to invest: \"))\n",
    "    annualInterestRate = float(input(\"Enter Annual Interest Rate: \"))\n",
    "    monthlyInterestRate = annualInterestRate / 1200\n",
    "    \n",
    "    print(\"Years\",\"\\t\",\"Future Value\")\n",
    "    for number in range(1,11):\n",
    "        returnOnInvestment = futureInvestmentValue(amountToInvest, monthlyInterestRate, number)\n",
    "        print(number, \"\\t\", format(returnOnInvestment, \".2f\"))\n",
    "\n",
    "        \n",
    "main()"
   ]
  },
  {
   "cell_type": "markdown",
   "metadata": {},
   "source": [
    "<h2>The MyTriangle module</h2> Create a module named MyTriangle that contains the following two functions:<br>\n",
    "\n",
    "def isValid(side1, side2, side3):  #Returns true if the sum of any two sides is greater than the third side <br>\n",
    "\n",
    "def area(side1, side2, side3):    #Returns the area of the triangle <br>\n",
    "\n",
    "Write a test program that reads three sides for a triangle and computes the area if the input is valid. Otherwise, it displays that the input is invalid. The formula for computing the area of a triangle is <br>\n",
    "$s = \\frac{(side1 + side2 + side3)}{2}$  and   $area = \\sqrt{s(s - side1)(s - side2)(s - side3)}$"
   ]
  },
  {
   "cell_type": "code",
   "execution_count": 8,
   "metadata": {},
   "outputs": [
    {
     "name": "stdout",
     "output_type": "stream",
     "text": [
      "Enter three sides in floats: 1,1,1\n",
      "The area of the triangle is 0.4330\n"
     ]
    }
   ],
   "source": [
    "def isValid(side1, side2, side3):\n",
    "    if side1 + side2 > side3 and side1 + side3 > side2 and side2 + side3 > side1:\n",
    "        return True\n",
    "    else:\n",
    "        return False\n",
    "    \n",
    "\n",
    "def area(side1, side2, side3):\n",
    "    if isValid(side1, side2, side3):\n",
    "        s = (side1 + side2 + side3) / 2\n",
    "        insideEquation = s * (s - side1) * (s - side2) * (s - side3)\n",
    "        areaTriangle = math.sqrt(insideEquation)\n",
    "        print(\"The area of the triangle is\", format(areaTriangle, \".4f\"))\n",
    "    else:\n",
    "        print(\"Input is invalid\")\n",
    "        \n",
    "def main():\n",
    "    side1, side2, side3 = input(\"Enter three sides in floats: \").split(\",\")\n",
    "    side1 = float(side1)\n",
    "    side2 = float(side2)\n",
    "    side3 = float(side3)\n",
    "    area(side1, side2, side3)\n",
    "    \n",
    "main()"
   ]
  },
  {
   "cell_type": "markdown",
   "metadata": {},
   "source": [
    "<h2>Financial:credit card number validation</h2>Credit card numbers follow certain patterns: It must have between 13 and 16 digits, and the number must start with:\n",
    "4 for Visa Cards<br>\n",
    "5 for MasterCard credit cards<br>\n",
    "37 for American Express Cards<br>\n",
    "6 for Discover cards<br>\n",
    "In 1954, Hans Luhn of IBM proposed an algorithm for validating credit card numbers. The algorithm is useful to determine whether a card number is enteres correctly or whthere a credit card is scanned correctly by a scanner. Credit Card numbers are generated following this validity check, commonly known as the Luhn check or the Mod 10 check, which can be described as follows (for illustration, consider the card number 4388576018402626)<br>\n",
    "\n",
    "1. Double every second digit from right to left. if doubling of a digit results in a two-digit number, add up the two digits to get a single number.\n",
    "$(2*2) + (2*2) + (4*2) + (1*2) + (6*2 = 12 = 3) + (5*2 = 10 = 1) + (8*2 = 16 = 7) + (4*2)$ <br>\n",
    "2. Now add all single-digit numbers from step 1 <br>\n",
    "$ 4 + 4 + 8 + 2 + 3 + 1 + 7 + 8 = 37$\n",
    "3. Add all digits in the odd places from right to left in the card number <br>\n",
    "$6 + 6 + 0 + 8 + 0 + 7 + 8 +3 = 38$\n",
    "4. Sum the results from Steps 2 and 3 <br>\n",
    "$37 + 38 = 75$\n",
    "5. If the result from step 4 is divisble by 10, the card number is valid; otherwise it is invalid. For example, the card number 4388756018402626 is invalid, but the card number 4388576018410707 is valid. Write a program that prompts the user to enter a credit card number as an integer. Display whether the number is valid or invalid. Design your program to use the following functions:"
   ]
  },
  {
   "cell_type": "code",
   "execution_count": 149,
   "metadata": {},
   "outputs": [],
   "source": [
    "#Return true if the card number is valid\n",
    "def isValid(number):\n",
    "    returnNumber = getPrefix(number, 1)\n",
    "    returnMatch = prefixMatched(number,returnNumber)\n",
    "    if getSize(number) < 13 or getSize(number) > 16:\n",
    "        return False\n",
    "    elif not returnMatch:\n",
    "        return False\n",
    "    else:\n",
    "        sumEven = sumOfDoubleEvenPlace(number)\n",
    "        sumOdd = sumOfOddPlaceNumber(number)\n",
    "        sumOddEven = sumEven + sumOdd\n",
    "        if sumOddEven % 10 == 0:\n",
    "            return True\n",
    "        else:\n",
    "            return False\n",
    "        \n",
    "#Get the result from step 2\n",
    "def sumOfDoubleEvenPlace(number):\n",
    "    sumTotal = 0\n",
    "    remain = True \n",
    "    while remain:\n",
    "        lastDigit = number % 10\n",
    "        remainingDigit = number // 10\n",
    "        secondDigit = remainingDigit % 10\n",
    "        secondDigit = 2 * secondDigit\n",
    "        digit = getDigit(secondDigit)\n",
    "        sumTotal = sumTotal + digit\n",
    "        number =  number // 100\n",
    "        if number == 0:\n",
    "            lastDigit = number % 10\n",
    "            remainingDigit = number // 10\n",
    "            secondDigit = 2 * remainingDigit\n",
    "            digit = getDigit(secondDigit)\n",
    "            sumTotal = sumTotal + digit\n",
    "            remain = False\n",
    "    return sumTotal\n",
    "\n",
    "\n",
    "\n",
    "#Return this number if it is a single digit, otherwise, return the sum of the two digits\n",
    "def getDigit(number):\n",
    "    num = number // 10\n",
    "    if num == 0:\n",
    "        return number\n",
    "    else:\n",
    "        firstDigit = number // 10\n",
    "        secondDigit = number % 10\n",
    "        number = firstDigit + secondDigit\n",
    "        return number\n",
    "    \n",
    "    \n",
    "    \n",
    "#Return sum of odd place digits in number\n",
    "def sumOfOddPlaceNumber(number):\n",
    "    sumTotal = 0\n",
    "    remain = True \n",
    "    while remain:\n",
    "        lastDigit = number % 10\n",
    "        remainingDigit = number // 10\n",
    "        sumTotal = sumTotal + lastDigit\n",
    "        number =  number // 100\n",
    "        if number == 0:\n",
    "            lastDigit = number % 10\n",
    "            remainingDigit = number // 10\n",
    "            sumTotal = sumTotal + lastDigit\n",
    "            remain = False\n",
    "    return sumTotal\n",
    "\n",
    "\n",
    "#Return true if the digit d is a prefix for number\n",
    "def prefixMatched(number, d):\n",
    "    prefix = getPrefix(number, 1)\n",
    "    if prefix == d:\n",
    "        if prefix == 3:\n",
    "            prefix = getPrefix(number, 2)\n",
    "            if prefix != 37:\n",
    "                return False\n",
    "        return True\n",
    "    else:\n",
    "        return False\n",
    "\n",
    "#Return the number of digits in d\n",
    "def getSize(d):\n",
    "    sumDigits = 0\n",
    "    notEnd = True\n",
    "    lastDigit = d % 10\n",
    "    remainingDigits = d // 10\n",
    "    numberOfDigits = 1\n",
    "    while notEnd:\n",
    "        lastDigit = remainingDigits % 10\n",
    "        remainingDigits = remainingDigits // 10\n",
    "        numberOfDigits = numberOfDigits + 1\n",
    "        if remainingDigits == 0:\n",
    "            notEnd = False \n",
    "    return numberOfDigits\n",
    "    \n",
    "#Return the first k number of digits from number. If the number of digits in number is less than k, return number\n",
    "def getPrefix(number, k):\n",
    "    count = getSize(number)\n",
    "    prefix = number // pow(10, count - k)\n",
    "    return prefix"
   ]
  },
  {
   "cell_type": "markdown",
   "metadata": {},
   "source": [
    "<h2>Craps</h2>Craps is a popular dice game played in casinos. Write a program to play a variation of the game, as follows:\n",
    "Roll two dice. Each die has six faces representing values 1, 2, ..., and 6, represectively. Check the sum of the two dice. If the sum is 2, 3, or 12 (called craps), you lose; if the sum is 7 or 11 (called natural), you win; if the sum is another value (i.e., 4, 5, 6, 8, 9 or 10), a point is established. Continue to roll the dice until either a 7 or the same point value is rolled. If 7 is rolled, you lose. Otherwise, you win. Your program acts as a single player. Here are some sample runs"
   ]
  },
  {
   "cell_type": "code",
   "execution_count": 174,
   "metadata": {},
   "outputs": [
    {
     "name": "stdout",
     "output_type": "stream",
     "text": [
      "You rolled 4 + 3 = 7\n",
      "You win\n"
     ]
    }
   ],
   "source": [
    "def craps():\n",
    "    #Randomly generate two numbers \n",
    "    numberOne = random.randint(1,6)\n",
    "    numberTwo = random.randint(1,6)\n",
    "    \n",
    "    #Obtain the sum of the numbers\n",
    "    sumNumbers = numberOne + numberTwo\n",
    "    \n",
    "    \n",
    "    if sumNumbers == 2 or sumNumbers == 3 or sumNumbers == 12:\n",
    "        print(\"You rolled\", numberOne, \"+\" ,numberTwo, \"=\", sumNumbers)\n",
    "        print(\"You lose\")\n",
    "        \n",
    "    elif sumNumbers == 7 or sumNumbers == 11:\n",
    "        print(\"You rolled\", numberOne, \"+\" ,numberTwo, \"=\", sumNumbers)\n",
    "        print(\"You win\")\n",
    "\n",
    "    else:\n",
    "        point = sumNumbers\n",
    "        print(\"You rolled\", numberOne, \"+\" ,numberTwo, \"=\", sumNumbers)\n",
    "        print(\"Point is\", sumNumbers)\n",
    "        exitLoop = False\n",
    "        while not exitLoop:\n",
    "            numberOne = random.randint(1,6)\n",
    "            numberTwo = random.randint(1,6)\n",
    "            sumNumbers = numberOne + numberTwo\n",
    "            if sumNumbers == 7:\n",
    "                print(\"You rolled\", numberOne, \"+\" ,numberTwo, \"=\", sumNumbers)\n",
    "                print(\"You lose\")\n",
    "                exitLoop = True\n",
    "            elif point == sumNumbers:\n",
    "                print(\"You rolled\", numberOne, \"+\" ,numberTwo, \"=\", sumNumbers)\n",
    "                print(\"You win\")\n",
    "                exitLoop = True\n",
    "            else:\n",
    "                exitLoop = False             "
   ]
  },
  {
   "cell_type": "code",
   "execution_count": 175,
   "metadata": {},
   "outputs": [
    {
     "name": "stdout",
     "output_type": "stream",
     "text": [
      "You rolled 4 + 6 = 10\n",
      "Point is 10\n",
      "You rolled 2 + 5 = 7\n",
      "You lose\n"
     ]
    }
   ],
   "source": [
    "craps() "
   ]
  },
  {
   "cell_type": "code",
   "execution_count": null,
   "metadata": {},
   "outputs": [],
   "source": []
  }
 ],
 "metadata": {
  "kernelspec": {
   "display_name": "Python 3",
   "language": "python",
   "name": "python3"
  },
  "language_info": {
   "codemirror_mode": {
    "name": "ipython",
    "version": 3
   },
   "file_extension": ".py",
   "mimetype": "text/x-python",
   "name": "python",
   "nbconvert_exporter": "python",
   "pygments_lexer": "ipython3",
   "version": "3.6.5"
  }
 },
 "nbformat": 4,
 "nbformat_minor": 2
}
