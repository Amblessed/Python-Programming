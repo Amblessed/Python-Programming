{
 "cells": [
  {
   "cell_type": "markdown",
   "metadata": {},
   "source": [
    "<h2>Assign Grades</h2> Write a program that assigns grades to a list of scores based on the following scheme: <br>\n",
    "The grade is A if score is >= best - 10<br>\n",
    "The grade is B if score is >= best - 20<br>\n",
    "The grade is C if score is >= best - 30<br>\n",
    "The grade is D if score is >= best - 40<br>\n",
    "The grade is F otherwise. Best is the highest score in the list of Scores"
   ]
  },
  {
   "cell_type": "code",
   "execution_count": 7,
   "metadata": {},
   "outputs": [
    {
     "name": "stdout",
     "output_type": "stream",
     "text": [
      "Student 0 score is 40 and grade is C\n",
      "Student 1 score is 55 and grade is B\n",
      "Student 2 score is 70 and grade is A\n",
      "Student 3 score is 58 and grade is B\n"
     ]
    }
   ],
   "source": [
    "listOfScores = [40,55,70,58]\n",
    "\n",
    "def printResults(resultList):\n",
    "    bestScore = max(listOfScores)\n",
    "    for num in range(len(resultList)):\n",
    "        if resultList[num] >= bestScore - 10:\n",
    "            print(\"Student\",num,\"score is\",resultList[num], \"and grade is A\")\n",
    "        elif resultList[num] >= bestScore - 20:\n",
    "            print(\"Student\",num,\"score is\",resultList[num], \"and grade is B\")\n",
    "        elif resultList[num] >= bestScore - 30:\n",
    "            print(\"Student\",num,\"score is\",resultList[num], \"and grade is C\")\n",
    "        elif resultList[num] >= bestScore - 40:\n",
    "            print(\"Student\",num,\"score is\",resultList[num], \"and grade is D\")\n",
    "        else:\n",
    "            print(\"Student\",num,\"score is\",resultList[num], \"and grade is F\")\n",
    "            \n",
    "printResults(listOfScores)"
   ]
  },
  {
   "cell_type": "markdown",
   "metadata": {},
   "source": [
    "<h2>Count occurrence of Numbers</h2> Write a program that reads some integers between 1 and 100 and counts the occurrences of each. "
   ]
  },
  {
   "cell_type": "code",
   "execution_count": 41,
   "metadata": {},
   "outputs": [
    {
     "name": "stdout",
     "output_type": "stream",
     "text": [
      "Enter a list of Numbers: 2,5,6,5,4,3,23,43,2,4,5,3,6,78\n",
      "2 occurs 2 times\n",
      "3 occurs 2 times\n",
      "4 occurs 2 times\n",
      "5 occurs 3 times\n",
      "6 occurs 2 times\n",
      "23 occurs 1 time\n",
      "43 occurs 1 time\n",
      "78 occurs 1 time\n"
     ]
    }
   ],
   "source": [
    "def countOccurrencesNumbers(listOfNumbers):\n",
    "    emptyList = [0] * 100\n",
    "    for num in listOfNumbers:\n",
    "        emptyList[num-1] = emptyList[num-1] + 1\n",
    "    for num in range(len(emptyList)):\n",
    "        if emptyList[num] != 0:\n",
    "            if emptyList[num] > 1:\n",
    "                print(num+1,\"occurs\",emptyList[num],\"times\")\n",
    "            else:\n",
    "                print(num+1,\"occurs\",emptyList[num],\"time\")\n",
    "    return\n",
    "\n",
    "def main():\n",
    "    numbersList = input(\"Enter a list of Numbers: \").split(\",\")\n",
    "    numbersList = [int(i) for i in numbersList]\n",
    "    countOccurrencesNumbers(numbersList)\n",
    "main()"
   ]
  },
  {
   "cell_type": "markdown",
   "metadata": {},
   "source": [
    "<h2>Print distinct numbers</h2>Write a program that reads in numbers separated by a space in one line and displays distinct numbers (i.e., if a number appears multiple times, it is displayed only once). (Hint: Read all the numbers and store them in list1. Create a new list list. Add a number in list 1 to list2. If the number is already in the list, ignore it). Here is a sample run of the program: <br>\n",
    "Enter ten numbers: 1 2 3 2 1 6 3 4 5 2<br>\n",
    "The distinct numbers are: 1 2 3 6 4 5"
   ]
  },
  {
   "cell_type": "code",
   "execution_count": 7,
   "metadata": {},
   "outputs": [
    {
     "name": "stdout",
     "output_type": "stream",
     "text": [
      "Enter numbers separated by space: 1 2 3 2 1 6 3 4 5 2\n",
      "['1', '2', '3', '6', '4', '5']\n"
     ]
    }
   ],
   "source": [
    "def distinctNumbers(numbersList):\n",
    "    distinctNumbersList = []\n",
    "    for num in numbersList:\n",
    "        if num not in distinctNumbersList:\n",
    "            distinctNumbersList.append(num)\n",
    "            \n",
    "    return distinctNumbersList\n",
    "\n",
    "def main():\n",
    "    numbers = input(\"Enter numbers separated by space: \")\n",
    "    numbers = numbers.split(\" \")\n",
    "    listReturned = distinctNumbers(numbers)\n",
    "    print(listReturned)\n",
    "    \n",
    "main()"
   ]
  },
  {
   "cell_type": "markdown",
   "metadata": {},
   "source": [
    "<h2>Count single digits</h2>Write a program that generates 1,000 random integers between 0 and 9 and displays the count for each number. (Hint: Use a list of ten integers, say counts, to store the counts for the number of 0s,1s,...9s)"
   ]
  },
  {
   "cell_type": "code",
   "execution_count": 29,
   "metadata": {},
   "outputs": [
    {
     "name": "stdout",
     "output_type": "stream",
     "text": [
      "[96, 114, 101, 105, 99, 111, 89, 99, 83, 103]\n"
     ]
    }
   ],
   "source": [
    "import random\n",
    "\n",
    "def countSingleDigits():\n",
    "    #Initiliaze a empty list of length 10 with 0s.\n",
    "    counts = [0,0,0,0,0,0,0,0,0,0] \n",
    "    for num in range(1000):\n",
    "        randomNumber = random.randint(0,9)\n",
    "        counts[randomNumber] = counts[randomNumber] + 1\n",
    "    return counts\n",
    "print(countSingleDigits())"
   ]
  },
  {
   "cell_type": "markdown",
   "metadata": {},
   "source": [
    "<h2>Find the index of the smallest element</h2>Write a function that returns the index of the smallest element in a list of integers. If the number of such elements is greatet than 1, return the samllest index. Use the following header:<br>\n",
    "def indexOfSmallestElement(lst):<br>\n",
    "Write a test program that prompts the user to enter a list of numbers, invokes this function to return the index of the smallest element, and displays the index"
   ]
  },
  {
   "cell_type": "code",
   "execution_count": 36,
   "metadata": {},
   "outputs": [
    {
     "name": "stdout",
     "output_type": "stream",
     "text": [
      "8\n",
      "0\n"
     ]
    }
   ],
   "source": [
    "def indexOfSmallestElement(lst):\n",
    "    smallestElement = lst[0]\n",
    "    smallestIndex = 0\n",
    "    for num in range(len(lst)):\n",
    "        if lst[num] < smallestElement:\n",
    "            smallestElement = lst[num]\n",
    "            smallestIndex = num\n",
    "            \n",
    "    return smallestIndex\n",
    "\n",
    "\n",
    "print(indexOfSmallestElement([96, 114, 101, 105, 99, 111, 89, 99, 83, 103]))\n",
    "print(indexOfSmallestElement([4, 114, 101, 105, 99, 4, 89, 99, 4, 103]))"
   ]
  },
  {
   "cell_type": "markdown",
   "metadata": {},
   "source": [
    "<h2>Random number chooser</h2>You can shuffle a list using random.shuffle(lst). Write your own function without using random.shuffle(lst) to shuffle a list and return the list. Use the following header:<br>\n",
    "def shuffle(lst):<br>\n",
    "Write a test program that prompts the user to enter a list of numbers, invokes the function to shuffle the numbers, and displays the numbers."
   ]
  },
  {
   "cell_type": "code",
   "execution_count": 174,
   "metadata": {},
   "outputs": [
    {
     "data": {
      "text/plain": [
       "[94, 105, 34, 99, 45, 96, 26, 103, 101, 89, 76, 83, 111, 114, 99, 89]"
      ]
     },
     "execution_count": 174,
     "metadata": {},
     "output_type": "execute_result"
    }
   ],
   "source": [
    "def shuffle(lst):\n",
    "    countList = []\n",
    "    shuffledList = []\n",
    "    for num in range(len(lst)):\n",
    "        randomNumber = random.randint(0,len(lst)-1)\n",
    "        while randomNumber in countList:\n",
    "            randomNumber = random.randint(0,len(lst)-1)\n",
    "        countList.append(randomNumber)\n",
    "    for num in countList:\n",
    "        shuffledList.append(lst[num])\n",
    "    return shuffledList\n",
    "\n",
    "shuffle([96, 114, 101, 105, 99, 111, 89, 99, 83, 103, 34, 76, 89, 45, 26, 94])"
   ]
  },
  {
   "cell_type": "markdown",
   "metadata": {},
   "source": [
    "<h2>Sorted</h2>Write the following function that returns true if the list is already sorted in increasing order: <br>\n",
    "def isSorted:<br>\n",
    "Write a test program that prompts the user to enter a list and displays whether the list is sorted or not. Here is a sample run:<br>\n",
    "Enter list: 1 1 3 4 4 5 7 9 10 30 11<br>\n",
    "The list is not sorted<br>\n",
    "Enter list: 1 1 3 4 4 5 7 9 10 30<br>\n",
    "The list is sorted"
   ]
  },
  {
   "cell_type": "code",
   "execution_count": 59,
   "metadata": {},
   "outputs": [
    {
     "data": {
      "text/plain": [
       "False"
      ]
     },
     "execution_count": 59,
     "metadata": {},
     "output_type": "execute_result"
    }
   ],
   "source": [
    "def isSorted(lst):\n",
    "    isListSorted = True\n",
    "    for num in range(len(lst)-1):\n",
    "        if lst[num+1] < lst[num]:\n",
    "            isListSorted = False\n",
    "            return isListSorted\n",
    "    return isListSorted \n",
    "\n",
    "\n",
    "isSorted([1,1,3,4,4,5,7,9,10,30,11])"
   ]
  },
  {
   "cell_type": "code",
   "execution_count": 60,
   "metadata": {},
   "outputs": [
    {
     "data": {
      "text/plain": [
       "True"
      ]
     },
     "execution_count": 60,
     "metadata": {},
     "output_type": "execute_result"
    }
   ],
   "source": [
    "isSorted([1,1,3,4,4,5,7,9,10,30])"
   ]
  },
  {
   "cell_type": "markdown",
   "metadata": {},
   "source": [
    "<h2>Bubble sort</h2>Write a sort function that uses the bubble-sort algorithm. The bubble-sort algorithm makes several passes through the list. On each pass, successive neighboring pairs are compared. If a pair is in decreasing order, its values are swapped; otherwise, the values remain unchanged. The technique is called a bubble sort or sinking sort because the smaller values gradually \"bubble\" their way to the top and the larger values \"sink\" to the bottom. Write a test program that reads in ten numbers, invokes the function, and display the sorted numbers. <br>\n",
    "```\n",
    "procedure bubbleSort(A: list of sortable items)\n",
    "    n = length(A)\n",
    "    repeat\n",
    "        swapped = true\n",
    "        for i = 1 to n-1 inclusive do\n",
    "            if A[i-1] > A[i] then\n",
    "                swap(A[i-1], A[i])\n",
    "                swapped = False\n",
    "            end if\n",
    "        end for\n",
    "        n = n - 1\n",
    "    until not swapped\n",
    "end procedure\n",
    "```"
   ]
  },
  {
   "cell_type": "code",
   "execution_count": 175,
   "metadata": {},
   "outputs": [
    {
     "data": {
      "text/plain": [
       "[26, 34, 45, 76, 83, 89, 89, 94, 96, 99, 99, 101, 103, 105, 111, 114]"
      ]
     },
     "execution_count": 175,
     "metadata": {},
     "output_type": "execute_result"
    }
   ],
   "source": [
    "def bubbleSort(lst):\n",
    "    length = len(lst)\n",
    "    listLength = len(lst)\n",
    "    while listLength > 0:\n",
    "        swapped = False \n",
    "        for num in range(0,length-1):\n",
    "            if lst[num] > lst[num+1]:\n",
    "                lst[num],lst[num+1]=swap(lst[num], lst[num+1])\n",
    "                swapped = True\n",
    "        listLength = listLength - 1\n",
    "        if not swapped:\n",
    "            break\n",
    "    return lst\n",
    "\n",
    "def swap(a,b):\n",
    "    temp = a\n",
    "    a = b\n",
    "    b = temp\n",
    "    return a,b\n",
    "\n",
    "bubbleSort([26, 96, 89, 101, 76, 99, 34, 99, 114, 45, 111, 94, 103, 89, 105, 83])"
   ]
  },
  {
   "cell_type": "markdown",
   "metadata": {},
   "source": [
    "<h2>Anagrams</h2>Write a function that checks whether two words are anagrams. Two words are anagrams if they contain the same letters. For example, silent and listen are anagrams. The header of the function is<br>\n",
    "def isAnagram(s1, s2):<br>\n",
    "(Hint: Obtain two lists for the two strings. Sort the lists and check if the two lists are identical.)<br>Write a test program that prompts the user to enter two strings and, if they are anagrams, displays is an anagram; otherwise, it displays is not an anagram"
   ]
  },
  {
   "cell_type": "code",
   "execution_count": 152,
   "metadata": {},
   "outputs": [
    {
     "name": "stdout",
     "output_type": "stream",
     "text": [
      "The two strings are anagrams\n",
      "The two strings are not anagrams\n"
     ]
    }
   ],
   "source": [
    "def isAnagram(s1,s2):\n",
    "    anagram = True\n",
    "    if len(s1) !=  len(s2):\n",
    "        anagram = False\n",
    "    else:\n",
    "        sortedS1 = list(s1).sort()\n",
    "        sortedS2 = list(s2).sort()\n",
    "        if sortedS1 != sortedS2:\n",
    "            anagram = False\n",
    "        else:\n",
    "            anagram = True\n",
    "\n",
    "    if anagram:\n",
    "        print(\"The two strings are anagrams\")\n",
    "    else:\n",
    "        print(\"The two strings are not anagrams\")\n",
    "        \n",
    "isAnagram(\"silent\",\"listen\")\n",
    "isAnagram(\"trigle\", \"integral\")"
   ]
  },
  {
   "cell_type": "markdown",
   "metadata": {},
   "source": [
    "<h2>Game: Bean Machine</h2>The bean machine, also known as a quincunx or the Galton box, is a device for statistics experiments named after English scientist Sir Francis Galton. It consists of an upright board with evenly sapced nails (or pegs) in a triangular pattern. Balls are dropped from the opening of the board. Every time a ball hits a nail, it has a 50% chance of falling to the left or to the right. The piles of balls are accumulated in the slots at bottom of the board. Write a pogram that simulates the bean machine. Your program should prompt the user to enter the number of balls and the number of slots in the machine. Simulate the falling of each ball by printing its path. Display the final buildup of the balls in the slots in a histogram. "
   ]
  },
  {
   "cell_type": "code",
   "execution_count": 165,
   "metadata": {},
   "outputs": [
    {
     "name": "stdout",
     "output_type": "stream",
     "text": [
      "Enter the number of balls to drop:6\n",
      "Enter the number of slots in the bean machine: 9\n",
      "L L R R R L R L L \n",
      "R R L L R L R L L \n",
      "R R L L R L R L R \n",
      "L L R R L R R R R \n",
      "R L R L L L L L L \n",
      "L L R L R R R L R \n",
      "\n",
      "      O           \n",
      "      O           \n",
      "        O         \n",
      "          O       \n",
      "  O               \n",
      "        O         \n"
     ]
    }
   ],
   "source": [
    "def beanMachine(numberBalls, numberSlots):\n",
    "    import random\n",
    "    mainList = []\n",
    "    for num in range(numberBalls):\n",
    "        count = 0\n",
    "        letter = \"H\"\n",
    "        number = 0\n",
    "        empty = [None] * numberSlots\n",
    "        while number < numberSlots:\n",
    "            digit = random.randint(0,1)\n",
    "            if digit == 0:\n",
    "                letter = \"R\"\n",
    "                number = number + 1\n",
    "                count = count + 1\n",
    "            else:\n",
    "                letter = \"L\"\n",
    "                number = number + 1\n",
    "            print(letter, end = \" \")\n",
    "        empty[count - 1] = \"O\"\n",
    "        mainList.append(empty)\n",
    "        print()\n",
    "\n",
    "    print()\n",
    "    for iList in mainList:\n",
    "        for item in iList:\n",
    "            if item == None:\n",
    "                print(\" \", end = \" \")\n",
    "            else:\n",
    "                print(item, end = \" \")\n",
    "        print()\n",
    "        \n",
    "        \n",
    "def main():\n",
    "    numBalls = int(input(\"Enter the number of balls to drop:\"))\n",
    "    numSlots = int(input(\"Enter the number of slots in the bean machine: \"))\n",
    "    beanMachine(numBalls,numSlots)\n",
    "    \n",
    "main()"
   ]
  },
  {
   "cell_type": "markdown",
   "metadata": {},
   "source": [
    "<h2>Game: Locker puzzle</h2>A school has 100 lockers and 100 students. All lockers are closed on the first day of school. As the students enter, the first student, denoted S1, opens every locker. Then the second student, S2, begins with the second locker, denoted L2, and closes every other locker. Student S3 begins withs the third locker and changes every third locker (closes it if it was open, and opens it if it was closed). Student S4 begins with L4 and changes every fourth locker. Student S5 starts with L5 and changes every fifth locker, and so on, until student S100 changes L100. After all the students through the building and changed the lockers, which lockers are open? Write a program to find your answer.<br>\n",
    "(Hint: Use a list of 100 Boolean elements, each of which indicates whether a locker is open(True) or closed(False). Initially, all lockers are closed.)"
   ]
  },
  {
   "cell_type": "code",
   "execution_count": 9,
   "metadata": {},
   "outputs": [
    {
     "name": "stdout",
     "output_type": "stream",
     "text": [
      "2 5 10 17 26 37 50 65 82 "
     ]
    }
   ],
   "source": [
    "def lockerPuzzle():\n",
    "    lockers = [False] * 100\n",
    "    for num in range(100):\n",
    "        number = num\n",
    "        while number < 100:\n",
    "            if num <= 1:\n",
    "                lockers[number] = not lockers[number]\n",
    "                number = number + 1\n",
    "            else:\n",
    "                if num > 50:\n",
    "                    lockers[number] = not lockers[number]\n",
    "                    break\n",
    "                else:\n",
    "                    lockers[number] = not lockers[number] \n",
    "                    number = number + num  \n",
    "                    \n",
    "    return lockers\n",
    "\n",
    "listLockers = lockerPuzzle()\n",
    "for digit in range(len(listLockers)):\n",
    "    if listLockers[digit] == False:\n",
    "        print(digit+1, end=\" \")"
   ]
  },
  {
   "cell_type": "markdown",
   "metadata": {},
   "source": [
    "<h2>Partition of a list</h2>Write the following function that partitions the list using the first element, called a pivot: <br>\n",
    "def partition(lst): <br>\n",
    "After the partition, the elements in the list are rearranged so that all the elements before the pivot are less than or equal to the pivot and the element after the pivot are greater than the pivot. The function also returns the index where the pivot is located in the new list. For example, suppose the list is [5, 2, 9, 3, 6, 8] After the partition, the list becomes [3, 2, 5, 9, 6, 8]. Write a test program that prompts the user to enter a list and displays the list after the partition. Here a sample run: <br>\n",
    "Enter a list: 10 1 5 16 61 9 11 1<br>\n",
    "After the partition, the list is 9 1 5 1 10 61 11 16"
   ]
  },
  {
   "cell_type": "code",
   "execution_count": 27,
   "metadata": {},
   "outputs": [
    {
     "data": {
      "text/plain": [
       "[2, 3, 1, 3, 4, 5, 9, 6, 8, 65]"
      ]
     },
     "execution_count": 27,
     "metadata": {},
     "output_type": "execute_result"
    }
   ],
   "source": [
    "def partition(lst):\n",
    "    pivot = lst[0]\n",
    "    newList = []\n",
    "    for num in range(len(lst)):\n",
    "        if lst[num] < pivot:\n",
    "            newList.append(lst[num])\n",
    "    remainList = [x for x in lst if x not in newList]\n",
    "    returnList = newList + remainList\n",
    "    return returnList \n",
    "\n",
    "partition([5, 2, 9, 3, 6, 8, 65, 1, 3, 4])"
   ]
  },
  {
   "cell_type": "code",
   "execution_count": 33,
   "metadata": {},
   "outputs": [
    {
     "data": {
      "text/plain": [
       "[10, 9, 2, 3, 6, 5, 4]"
      ]
     },
     "execution_count": 33,
     "metadata": {},
     "output_type": "execute_result"
    }
   ],
   "source": [
    "def reverseList(lst):\n",
    "    lstLength = len(lst) // 2\n",
    "    #lstLength = lstLength//2\n",
    "    for number in range(lstLength):\n",
    "        num = 1 + number\n",
    "        temp = lst[number]\n",
    "        lst[number] = lst[len(lst)-num]\n",
    "        lst[len(lst)-num] = temp\n",
    "    return lst\n",
    "\n",
    "\n",
    "reverseList([4, 5, 6, 3, 2, 9, 10])"
   ]
  },
  {
   "cell_type": "markdown",
   "metadata": {},
   "source": [
    "<h2>Occurrences of each digit in a string</h2> Write a function that counts the occurrences of each digit in a string using the following header:<br>\n",
    "def count(s):<br>\n",
    "The function counts how many times a digit appears in the string. The return value is list of ten elements, each of which holds the count for a digit. For example, after executing counts = count(\"12203AB3\"), counts[0] = 1, counts[1] = 1, counts[2] = 2, and counts[3] is 2<br>\n",
    "Write a test program that prompts the user to enter a string and displays the number of occurrences of each digit in the string. "
   ]
  },
  {
   "cell_type": "code",
   "execution_count": 46,
   "metadata": {},
   "outputs": [
    {
     "name": "stdout",
     "output_type": "stream",
     "text": [
      "1 occurs 1 time\n",
      "2 occurs 3 times\n",
      "3 occurs 3 times\n",
      "4 occurs 1 time\n",
      "5 occurs 1 time\n"
     ]
    }
   ],
   "source": [
    "def count(s):\n",
    "    countList = [0] * 10\n",
    "    for num in s:\n",
    "        if num.isdigit():\n",
    "            countList[int(num)] += 1\n",
    "            \n",
    "    for num in range(len(countList)):\n",
    "        if countList[num] > 0:\n",
    "            print(num,\"occurs\",countList[num],\"times\") if countList[num] > 1 else print(num,\"occurs\",countList[num],\"time\")   \n",
    "            #if countList[num] > 1:\n",
    "                #print(num, \"occurs\", countList[num],\"times\")\n",
    "            #else:\n",
    "                #print(num, \"occurs\", countList[num],\"time\")     \n",
    "                \n",
    "count(\"232534312\")"
   ]
  },
  {
   "cell_type": "code",
   "execution_count": null,
   "metadata": {},
   "outputs": [],
   "source": []
  }
 ],
 "metadata": {
  "kernelspec": {
   "display_name": "Python 3",
   "language": "python",
   "name": "python3"
  },
  "language_info": {
   "codemirror_mode": {
    "name": "ipython",
    "version": 3
   },
   "file_extension": ".py",
   "mimetype": "text/x-python",
   "name": "python",
   "nbconvert_exporter": "python",
   "pygments_lexer": "ipython3",
   "version": "3.6.5"
  }
 },
 "nbformat": 4,
 "nbformat_minor": 2
}
